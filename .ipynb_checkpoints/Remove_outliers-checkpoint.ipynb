{
 "cells": [
  {
   "cell_type": "code",
   "execution_count": 1,
   "id": "03cddf50",
   "metadata": {},
   "outputs": [],
   "source": [
    "from lightgbm import LGBMClassifier\n",
    "\n",
    "import numpy as np\n",
    "import pandas as pd\n",
    "from sklearn.model_selection import train_test_split\n",
    "import matplotlib.pyplot as plt\n",
    "\n",
    "from sklearn.metrics import roc_auc_score\n",
    "from sklearn.model_selection import cross_val_score\n",
    "from sklearn.model_selection import StratifiedKFold\n",
    "\n",
    "from sklearn.model_selection import GridSearchCV\n",
    "import optuna\n",
    "from optuna.trial import Trial\n",
    "from optuna.samplers import TPESampler\n",
    "import warnings\n",
    "warnings.filterwarnings('ignore')\n",
    "\n",
    "from typing import List, Any, Tuple\n",
    "from sklearn.preprocessing import MinMaxScaler"
   ]
  },
  {
   "cell_type": "code",
   "execution_count": 2,
   "id": "9a0b5315",
   "metadata": {},
   "outputs": [],
   "source": [
    "# Data Loading\n",
    "X_model = pd.read_csv('X_model.csv')\n",
    "Y_model = pd.read_csv('Y_model.csv')\n",
    "scaler = MinMaxScaler(feature_range=(0,1))"
   ]
  },
  {
   "cell_type": "code",
   "execution_count": 3,
   "id": "f75183d1",
   "metadata": {},
   "outputs": [
    {
     "name": "stdout",
     "output_type": "stream",
     "text": [
      "Filtering outliers...\n",
      "Defining preprocessors...\n"
     ]
    }
   ],
   "source": [
    "# Filter outliers by \"entire\"\n",
    "# Ref: https://machinelearningmastery.com/how-to-use-statistics-to-identify-outliers-in-data/\n",
    "print(\"Filtering outliers...\")\n",
    "df_base = pd.concat([X_model, Y_model], axis=1)\n",
    "df_processed = pd.DataFrame(data=df_base, columns=['business'])\n",
    "df_processed['cEntire'] = df_base.filter(regex=\"c\" + r\"2022[0-9]*\", axis=1).fillna(0).sum(axis=1)\n",
    "df_processed['tEntire'] = df_base.filter(regex=\"t\" + r\"2022[0-9]*\", axis=1).fillna(0).sum(axis=1)\n",
    "df_processed['sEntire'] = df_base.filter(regex=\"s\" + r\"2022[0-9]*\", axis=1).fillna(0).sum(axis=1)\n",
    "\n",
    "# outliers = []\n",
    "\n",
    "# def collect_outliers(business: int, key: str):\n",
    "#     df_target = df_processed[df_processed['business'] == business]\n",
    "#     q1, q3 = df_target[key].quantile([0.25, 0.75])\n",
    "#     iqr = q3 - q1\n",
    "#     cutoff = iqr * 2.0\n",
    "#     lower, upper = q1 - cutoff, q3 + cutoff\n",
    "#     _outliers = df_target[(df_target[key] < lower) | (df_target[key] > upper)].index.tolist()\n",
    "#     print(len(_outliers))\n",
    "#     outliers.extend(_outliers)\n",
    "\n",
    "# collect_outliers(0, 'cEntire')\n",
    "# collect_outliers(1, 'cEntire')\n",
    "# collect_outliers(0, 'tEntire')\n",
    "# collect_outliers(1, 'tEntire')\n",
    "# collect_outliers(0, 'sEntire')\n",
    "# collect_outliers(1, 'sEntire')\n",
    "\n",
    "# outliers = list(set(outliers))\n",
    "\n",
    "# Filter outliers from df\n",
    "# def filter_outliers_from_df(df: pd.DataFrame, outliers):\n",
    "#     return df.drop(outliers)\n",
    "\n",
    "# X_model = filter_outliers_from_df(X_model, outliers)\n",
    "# Y_model = filter_outliers_from_df(Y_model, outliers)\n",
    "\n",
    "# Get columns of \"c\" prefix of last 5 days of month\n",
    "last_5_days = [\n",
    "    *[f\"c202201{i + 27}\" for i in range(5)],\n",
    "    *[f\"c202202{i + 24}\" for i in range(5)],\n",
    "    *[f\"c202203{i + 27}\" for i in range(5)],\n",
    "    *[f\"c202204{i + 26}\" for i in range(5)],\n",
    "    *[f\"c202205{i + 27}\" for i in range(5)],\n",
    "    *[f\"c202206{i + 26}\" for i in range(5)],\n",
    "    *[f\"c202207{i + 27}\" for i in range(5)],\n",
    "]\n",
    "last_5_days_sum = X_model.filter(last_5_days, axis=1).fillna(0).sum(axis=1)\n",
    "# print(last_5_days_sum.head())\n",
    "last_5_days_sum = last_5_days_sum.sort_values(ascending=False)\n",
    "# print(last_5_days_sum.index)\n",
    "\n",
    "\n",
    "# Define preprocessors\n",
    "print(\"Defining preprocessors...\")\n",
    "def column(colnames: List[str]):\n",
    "    def _column(X: pd.DataFrame):\n",
    "        X = X.fillna(0)\n",
    "        return [\n",
    "            [colname, X[colname].values] for colname in colnames\n",
    "        ]\n",
    "    return _column\n",
    "\n",
    "def rangesum(\n",
    "    name:str, \n",
    "    regex: str, \n",
    "    prefixes: str, \n",
    "    dist: np.ndarray\n",
    "):\n",
    "    def _rangesum(X: pd.DataFrame):\n",
    "        X = X.fillna(0)\n",
    "        return [\n",
    "            [\n",
    "                prefix + name, \n",
    "                X.filter(regex=(prefix + regex), axis=1).values.dot(dist)\n",
    "            ] for prefix in prefixes\n",
    "        ]\n",
    "    return _rangesum\n",
    "\n",
    "def rangesum_from_list(\n",
    "    name: str, \n",
    "    namelist: List[str], \n",
    "    prefix: str,\n",
    "    dist: np.ndarray,    \n",
    "):\n",
    "    def _rangesum_from_list(X: pd.DataFrame):\n",
    "        X = X.fillna(0)\n",
    "        return [\n",
    "            [\n",
    "                prefix + name, \n",
    "                X[namelist].values.dot(dist)\n",
    "            ]\n",
    "        ]\n",
    "    return _rangesum_from_list\n",
    "\n",
    "def _fillna(X: np.ndarray) -> np.ndarray:\n",
    "    return np.nan_to_num(X, copy=True, nan=0)\n",
    "\n",
    "def array_divide(\n",
    "    numerator: List[Tuple[str, np.ndarray]], \n",
    "    denominator: List[Tuple[str, np.ndarray]]\n",
    ") -> List[Any]:\n",
    "    assert len(numerator) == len(denominator)\n",
    "    return [\n",
    "        [\n",
    "            \"r\" + numerator_colname, \n",
    "            _fillna(np.divide(numerator_col, denominator_col))\n",
    "        ] for [numerator_colname, numerator_col], [_, denominator_col] in zip(numerator, denominator)\n",
    "    ]\n",
    "\n",
    "def one_hot_encode(column: str) -> pd.DataFrame:\n",
    "    def _one_hot_encode(X: pd.DataFrame):\n",
    "        X = X.fillna(0)\n",
    "        df_dummies = pd.get_dummies(X[column], prefix=column)\n",
    "        return [\n",
    "            [colname, df_dummies[colname].values] for colname in df_dummies.columns\n",
    "        ]\n",
    "    return _one_hot_encode\n",
    "\n",
    "def preprocess(X: pd.DataFrame, processors: List[Any]) -> pd.DataFrame:\n",
    "    X_new = pd.DataFrame()\n",
    "\n",
    "    for processor in processors:\n",
    "        for colname, col in processor if type(processor) == type([]) else processor(X):\n",
    "            X_new[colname] = col\n",
    "\n",
    "    X_new = X_new.fillna(0)\n",
    "\n",
    "#     X_new = pd.DataFrame(scaler.fit_transform(X_new), columns=X_new.columns)\n",
    "\n",
    "    return X_new\n",
    "\n",
    "def equal_dist(length: int) -> np.ndarray:\n",
    "    return np.ones(length)\n",
    "\n",
    "def linear_dist(length: int) -> np.ndarray:\n",
    "    return np.arange(start=0, stop=1, step=1/length)\n",
    "\n",
    "def triangle_dist(length: int) -> np.ndarray:\n",
    "    return np.concatenate(\n",
    "        [\n",
    "            np.arange(start=0, stop=1, step=1/length),\n",
    "            np.arange(start=1, stop=0, step=-1/length)\n",
    "        ]\n",
    "    )"
   ]
  },
  {
   "cell_type": "code",
   "execution_count": 4,
   "id": "e4bea1d0",
   "metadata": {},
   "outputs": [],
   "source": [
    "# Get columns of \"c\" prefix of last 5 days of month\n",
    "last_5_days = [\n",
    "    *[f\"c202201{i + 27}\" for i in range(5)],\n",
    "    *[f\"c202202{i + 24}\" for i in range(5)],\n",
    "    *[f\"c202203{i + 27}\" for i in range(5)],\n",
    "    *[f\"c202204{i + 26}\" for i in range(5)],\n",
    "    *[f\"c202205{i + 27}\" for i in range(5)],\n",
    "    *[f\"c202206{i + 26}\" for i in range(5)],\n",
    "    *[f\"c202207{i + 27}\" for i in range(5)],\n",
    "]\n",
    "last_5_days_sum = X_model.filter(last_5_days, axis=1).fillna(0).sum(axis=1)\n",
    "last5_code = np.array(last_5_days_sum)\n",
    "last_5_days_sum_list =[]\n",
    "last_5_days_sum_list.append(['last_5_days_sum',last5_code])"
   ]
  },
  {
   "cell_type": "code",
   "execution_count": 5,
   "id": "b586d3fa",
   "metadata": {},
   "outputs": [
    {
     "name": "stdout",
     "output_type": "stream",
     "text": [
      "Data preprocessing...\n"
     ]
    },
    {
     "data": {
      "text/html": [
       "<div>\n",
       "<style scoped>\n",
       "    .dataframe tbody tr th:only-of-type {\n",
       "        vertical-align: middle;\n",
       "    }\n",
       "\n",
       "    .dataframe tbody tr th {\n",
       "        vertical-align: top;\n",
       "    }\n",
       "\n",
       "    .dataframe thead th {\n",
       "        text-align: right;\n",
       "    }\n",
       "</style>\n",
       "<table border=\"1\" class=\"dataframe\">\n",
       "  <thead>\n",
       "    <tr style=\"text-align: right;\">\n",
       "      <th></th>\n",
       "      <th>gender</th>\n",
       "      <th>age_code</th>\n",
       "      <th>region_code</th>\n",
       "      <th>cGIT</th>\n",
       "      <th>tGIT</th>\n",
       "      <th>sGIT</th>\n",
       "      <th>tVAT</th>\n",
       "      <th>sVAT</th>\n",
       "      <th>cEntire</th>\n",
       "      <th>tEntire</th>\n",
       "      <th>sEntire</th>\n",
       "      <th>last_5_days_sum</th>\n",
       "    </tr>\n",
       "  </thead>\n",
       "  <tbody>\n",
       "    <tr>\n",
       "      <th>0</th>\n",
       "      <td>13</td>\n",
       "      <td>13</td>\n",
       "      <td>7</td>\n",
       "      <td>0.0</td>\n",
       "      <td>0.0</td>\n",
       "      <td>0.0</td>\n",
       "      <td>0.0</td>\n",
       "      <td>0.0</td>\n",
       "      <td>1.0</td>\n",
       "      <td>1.0</td>\n",
       "      <td>93.0</td>\n",
       "      <td>0.0</td>\n",
       "    </tr>\n",
       "    <tr>\n",
       "      <th>1</th>\n",
       "      <td>5</td>\n",
       "      <td>5</td>\n",
       "      <td>1</td>\n",
       "      <td>2.0</td>\n",
       "      <td>0.0</td>\n",
       "      <td>17.0</td>\n",
       "      <td>0.0</td>\n",
       "      <td>185.0</td>\n",
       "      <td>39.0</td>\n",
       "      <td>0.0</td>\n",
       "      <td>790.0</td>\n",
       "      <td>4.0</td>\n",
       "    </tr>\n",
       "    <tr>\n",
       "      <th>2</th>\n",
       "      <td>6</td>\n",
       "      <td>6</td>\n",
       "      <td>2</td>\n",
       "      <td>6.0</td>\n",
       "      <td>3.0</td>\n",
       "      <td>2253.0</td>\n",
       "      <td>0.0</td>\n",
       "      <td>1712.0</td>\n",
       "      <td>26.0</td>\n",
       "      <td>3.0</td>\n",
       "      <td>5119.0</td>\n",
       "      <td>0.0</td>\n",
       "    </tr>\n",
       "  </tbody>\n",
       "</table>\n",
       "</div>"
      ],
      "text/plain": [
       "   gender  age_code  region_code  cGIT  tGIT    sGIT  tVAT    sVAT  cEntire  \\\n",
       "0      13        13            7   0.0   0.0     0.0   0.0     0.0      1.0   \n",
       "1       5         5            1   2.0   0.0    17.0   0.0   185.0     39.0   \n",
       "2       6         6            2   6.0   3.0  2253.0   0.0  1712.0     26.0   \n",
       "\n",
       "   tEntire  sEntire  last_5_days_sum  \n",
       "0      1.0     93.0              0.0  \n",
       "1      0.0    790.0              4.0  \n",
       "2      3.0   5119.0              0.0  "
      ]
     },
     "execution_count": 5,
     "metadata": {},
     "output_type": "execute_result"
    }
   ],
   "source": [
    "print(\"Data preprocessing...\")\n",
    "dist_GIT = rangesum(\n",
    "    'GIT', \n",
    "    r\"202205[0-9]{2}\", \n",
    "    \"cts\", \n",
    "    equal_dist(31)\n",
    ")(X_model)\n",
    "dist_VAT = rangesum(\n",
    "    'VAT', \n",
    "    r\"20220[17](?:[01][0-9]|2[0-5])\", \n",
    "    \"ts\", \n",
    "    np.concatenate((equal_dist(25), equal_dist(25)))\n",
    ")(X_model)\n",
    "entire_days = 31 + 29 + 31 + 30 + 31 + 30 + 31 + 25\n",
    "entire = rangesum(\n",
    "    'Entire', \n",
    "    r\"2022[0-9]{4}\", \n",
    "    \"cts\", \n",
    "    equal_dist(entire_days)\n",
    ")(X_model)\n",
    "\n",
    "age_code = np.array(X_model['age_code'])\n",
    "gender_code = np.array(X_model['gender'])\n",
    "region_code = np.array(X_model['region_code'])\n",
    "cat_Featrues = []\n",
    "cat_Featrues.append(['gender',age_code])\n",
    "cat_Featrues.append(['age_code',age_code])\n",
    "cat_Featrues.append(['region_code',region_code])\n",
    "\n",
    "X_processed = preprocess(\n",
    "    X_model, \n",
    "    [\n",
    "        cat_Featrues,\n",
    "        dist_GIT,\n",
    "        dist_VAT,\n",
    "        entire,\n",
    "        last_5_days_sum_list\n",
    "        # array_divide(dist_GIT, entire), # rel_GIT\n",
    "        # array_divide(dist_VAT, entire[1:]), # rel_VAT\n",
    "    ]\n",
    ")\n",
    "X_processed.head(3)"
   ]
  },
  {
   "cell_type": "code",
   "execution_count": 6,
   "id": "a835d0eb",
   "metadata": {},
   "outputs": [],
   "source": [
    "Mix = pd.concat([X_processed,Y_model],axis=1)"
   ]
  },
  {
   "cell_type": "code",
   "execution_count": 7,
   "id": "172ad94c",
   "metadata": {},
   "outputs": [
    {
     "data": {
      "image/png": "[encoded data removed]",
      "text/plain": [
       "<Figure size 432x288 with 1 Axes>"
      ]
     },
     "metadata": {
      "needs_background": "light"
     },
     "output_type": "display_data"
    }
   ],
   "source": [
    "plt.scatter(Mix['last_5_days_sum'],Mix['business'])\n",
    "plt.show()"
   ]
  },
  {
   "cell_type": "code",
   "execution_count": 8,
   "id": "4cc6e543",
   "metadata": {},
   "outputs": [],
   "source": [
    "a = Mix[(Mix['last_5_days_sum']>1000) & (Mix['business']==1)].index\n",
    "Mix = Mix.drop(a)\n",
    "a2 = Mix[(Mix['last_5_days_sum']>800) & (Mix['business']==0)].index\n",
    "Mix = Mix.drop(a2)\n",
    "a3 = Mix[(Mix['last_5_days_sum']>500) & (Mix['business']==1)].index\n",
    "Mix = Mix.drop(a3)"
   ]
  },
  {
   "cell_type": "code",
   "execution_count": 9,
   "id": "e7395952",
   "metadata": {},
   "outputs": [
    {
     "data": {
      "image/png": "[encoded data removed]",
      "text/plain": [
       "<Figure size 432x288 with 1 Axes>"
      ]
     },
     "metadata": {
      "needs_background": "light"
     },
     "output_type": "display_data"
    }
   ],
   "source": [
    "plt.scatter(Mix['cGIT'],Mix['business'])\n",
    "plt.show()"
   ]
  },
  {
   "cell_type": "code",
   "execution_count": 10,
   "id": "c1d1d682",
   "metadata": {},
   "outputs": [],
   "source": [
    "b = Mix[(Mix['cGIT']>450) & (Mix['business']==1)].index\n",
    "Mix = Mix.drop(b)"
   ]
  },
  {
   "cell_type": "code",
   "execution_count": 11,
   "id": "3142bf52",
   "metadata": {},
   "outputs": [
    {
     "data": {
      "image/png": "[encoded data removed]",
      "text/plain": [
       "<Figure size 432x288 with 1 Axes>"
      ]
     },
     "metadata": {
      "needs_background": "light"
     },
     "output_type": "display_data"
    }
   ],
   "source": [
    "plt.scatter(Mix['tGIT'],Mix['business'])\n",
    "plt.show()"
   ]
  },
  {
   "cell_type": "code",
   "execution_count": 12,
   "id": "3ec0c3cc",
   "metadata": {},
   "outputs": [],
   "source": [
    "c= Mix[(Mix['tGIT']>500) & (Mix['business']==0)].index\n",
    "Mix = Mix.drop(c)"
   ]
  },
  {
   "cell_type": "code",
   "execution_count": 13,
   "id": "5fc88b42",
   "metadata": {},
   "outputs": [],
   "source": [
    "c2= Mix[(Mix['tGIT']>350) & (Mix['business']==1)].index\n",
    "Mix = Mix.drop(c2)"
   ]
  },
  {
   "cell_type": "code",
   "execution_count": 14,
   "id": "ae1f6312",
   "metadata": {},
   "outputs": [
    {
     "data": {
      "image/png": "[encoded data removed]",
      "text/plain": [
       "<Figure size 432x288 with 1 Axes>"
      ]
     },
     "metadata": {
      "needs_background": "light"
     },
     "output_type": "display_data"
    }
   ],
   "source": [
    "plt.scatter(Mix['tGIT'],Mix['business'])\n",
    "plt.show()"
   ]
  },
  {
   "cell_type": "code",
   "execution_count": 15,
   "id": "7228f03a",
   "metadata": {},
   "outputs": [],
   "source": [
    "d= Mix[(Mix['tGIT']>300) & (Mix['business']==1)].index\n",
    "Mix = Mix.drop(d)"
   ]
  },
  {
   "cell_type": "code",
   "execution_count": 16,
   "id": "8f43cfca",
   "metadata": {},
   "outputs": [
    {
     "data": {
      "image/png": "[encoded data removed]",
      "text/plain": [
       "<Figure size 432x288 with 1 Axes>"
      ]
     },
     "metadata": {
      "needs_background": "light"
     },
     "output_type": "display_data"
    }
   ],
   "source": [
    "plt.scatter(Mix['tGIT'],Mix['business'])\n",
    "plt.show()"
   ]
  },
  {
   "cell_type": "code",
   "execution_count": 17,
   "id": "f3c43a5f",
   "metadata": {},
   "outputs": [],
   "source": [
    "d2= Mix[(Mix['tGIT']>220) & (Mix['business']==1)].index\n",
    "Mix = Mix.drop(d2)"
   ]
  },
  {
   "cell_type": "code",
   "execution_count": 18,
   "id": "1314b4c5",
   "metadata": {},
   "outputs": [],
   "source": [
    "d3 = Mix[(Mix['tGIT']>350) & (Mix['business']==0)].index\n",
    "Mix = Mix.drop(d3)"
   ]
  },
  {
   "cell_type": "code",
   "execution_count": 19,
   "id": "0a8b6afe",
   "metadata": {},
   "outputs": [
    {
     "data": {
      "image/png": "[encoded data removed]",
      "text/plain": [
       "<Figure size 432x288 with 1 Axes>"
      ]
     },
     "metadata": {
      "needs_background": "light"
     },
     "output_type": "display_data"
    }
   ],
   "source": [
    "plt.scatter(Mix['sGIT'],Mix['business'])\n",
    "plt.show()"
   ]
  },
  {
   "cell_type": "code",
   "execution_count": 20,
   "id": "efa427c1",
   "metadata": {},
   "outputs": [],
   "source": [
    "e= Mix[(Mix['sGIT']>150000) & (Mix['business']==0)].index\n",
    "Mix = Mix.drop(e)"
   ]
  },
  {
   "cell_type": "code",
   "execution_count": 21,
   "id": "49594a5c",
   "metadata": {},
   "outputs": [],
   "source": [
    "e2= Mix[(Mix['sGIT']>60000) & (Mix['business']==1)].index\n",
    "Mix = Mix.drop(e2)"
   ]
  },
  {
   "cell_type": "code",
   "execution_count": 22,
   "id": "76c37969",
   "metadata": {},
   "outputs": [],
   "source": [
    "e3= Mix[(Mix['sGIT']>100000) & (Mix['business']==0)].index\n",
    "Mix = Mix.drop(e3)"
   ]
  },
  {
   "cell_type": "code",
   "execution_count": 26,
   "id": "f79828e2",
   "metadata": {},
   "outputs": [],
   "source": [
    "# tVAT\tsVAT\tcEntire\ttEntire\tsEntire"
   ]
  },
  {
   "cell_type": "code",
   "execution_count": 23,
   "id": "49045448",
   "metadata": {},
   "outputs": [
    {
     "data": {
      "image/png": "[encoded data removed]",
      "text/plain": [
       "<Figure size 432x288 with 1 Axes>"
      ]
     },
     "metadata": {
      "needs_background": "light"
     },
     "output_type": "display_data"
    }
   ],
   "source": [
    "plt.scatter(Mix['sVAT'],Mix['business'])\n",
    "plt.show()"
   ]
  },
  {
   "cell_type": "code",
   "execution_count": 24,
   "id": "5e34dc7d",
   "metadata": {},
   "outputs": [],
   "source": [
    "f= Mix[(Mix['sVAT']>150000) & (Mix['business']==0)].index\n",
    "Mix = Mix.drop(f)\n",
    "f2= Mix[(Mix['sVAT']>65000) & (Mix['business']==1)].index\n",
    "Mix = Mix.drop(f2)"
   ]
  },
  {
   "cell_type": "code",
   "execution_count": 25,
   "id": "2fb28a33",
   "metadata": {},
   "outputs": [
    {
     "data": {
      "image/png": "[encoded data removed]",
      "text/plain": [
       "<Figure size 432x288 with 1 Axes>"
      ]
     },
     "metadata": {
      "needs_background": "light"
     },
     "output_type": "display_data"
    }
   ],
   "source": [
    "plt.scatter(Mix['sEntire'],Mix['business'])\n",
    "plt.show()"
   ]
  },
  {
   "cell_type": "code",
   "execution_count": 26,
   "id": "4dc9e5ee",
   "metadata": {},
   "outputs": [],
   "source": [
    "h = Mix[(Mix['sEntire']>500000) & (Mix['business']==0)].index\n",
    "Mix = Mix.drop(h)\n",
    "h1 = Mix[(Mix['sEntire']>300000) & (Mix['business']==1)].index\n",
    "Mix = Mix.drop(h1)"
   ]
  },
  {
   "cell_type": "code",
   "execution_count": 27,
   "id": "3dcafaff",
   "metadata": {},
   "outputs": [
    {
     "data": {
      "text/plain": [
       "(799954, 13)"
      ]
     },
     "execution_count": 27,
     "metadata": {},
     "output_type": "execute_result"
    }
   ],
   "source": [
    "Mix.shape # removed 14 outliers"
   ]
  },
  {
   "cell_type": "code",
   "execution_count": 28,
   "id": "be9f290f",
   "metadata": {},
   "outputs": [],
   "source": [
    "X_processed = Mix.loc[:,'gender':'last_5_days_sum']\n",
    "Y_model = Mix['business'].astype('int')"
   ]
  },
  {
   "cell_type": "code",
   "execution_count": 34,
   "id": "d826009c",
   "metadata": {
    "scrolled": true
   },
   "outputs": [
    {
     "name": "stdout",
     "output_type": "stream",
     "text": [
      "Preparing for hyperparameter tuning...\n",
      "Hyperparameter tuning started...\n"
     ]
    },
    {
     "data": {
      "application/vnd.jupyter.widget-view+json": {
       "model_id": "80b87041eb51426f8d961f5280a74162",
       "version_major": 2,
       "version_minor": 0
      },
      "text/plain": [
       "  0%|          | 0/10 [00:00<?, ?it/s]"
      ]
     },
     "metadata": {},
     "output_type": "display_data"
    },
    {
     "name": "stdout",
     "output_type": "stream",
     "text": [
      "[LightGBM] [Warning] min_data_in_leaf is set=889, min_child_samples=20 will be ignored. Current value: min_data_in_leaf=889\n",
      "[LightGBM] [Warning] lambda_l1 is set=0.008546054875284271, reg_alpha=0.0 will be ignored. Current value: lambda_l1=0.008546054875284271\n",
      "[LightGBM] [Warning] bagging_fraction is set=0.5182801656411274, subsample=1.0 will be ignored. Current value: bagging_fraction=0.5182801656411274\n",
      "[LightGBM] [Warning] lambda_l2 is set=0.009247553460364173, reg_lambda=0.0 will be ignored. Current value: lambda_l2=0.009247553460364173\n",
      "[LightGBM] [Warning] min_data_in_leaf is set=889, min_child_samples=20 will be ignored. Current value: min_data_in_leaf=889\n",
      "[LightGBM] [Warning] lambda_l1 is set=0.008546054875284271, reg_alpha=0.0 will be ignored. Current value: lambda_l1=0.008546054875284271\n",
      "[LightGBM] [Warning] bagging_fraction is set=0.5182801656411274, subsample=1.0 will be ignored. Current value: bagging_fraction=0.5182801656411274\n",
      "[LightGBM] [Warning] lambda_l2 is set=0.009247553460364173, reg_lambda=0.0 will be ignored. Current value: lambda_l2=0.009247553460364173\n",
      "[LightGBM] [Warning] min_data_in_leaf is set=889, min_child_samples=20 will be ignored. Current value: min_data_in_leaf=889\n",
      "[LightGBM] [Warning] lambda_l1 is set=0.008546054875284271, reg_alpha=0.0 will be ignored. Current value: lambda_l1=0.008546054875284271\n",
      "[LightGBM] [Warning] bagging_fraction is set=0.5182801656411274, subsample=1.0 will be ignored. Current value: bagging_fraction=0.5182801656411274\n",
      "[LightGBM] [Warning] lambda_l2 is set=0.009247553460364173, reg_lambda=0.0 will be ignored. Current value: lambda_l2=0.009247553460364173\n",
      "[LightGBM] [Warning] min_data_in_leaf is set=889, min_child_samples=20 will be ignored. Current value: min_data_in_leaf=889\n",
      "[LightGBM] [Warning] lambda_l1 is set=0.008546054875284271, reg_alpha=0.0 will be ignored. Current value: lambda_l1=0.008546054875284271\n",
      "[LightGBM] [Warning] bagging_fraction is set=0.5182801656411274, subsample=1.0 will be ignored. Current value: bagging_fraction=0.5182801656411274\n",
      "[LightGBM] [Warning] lambda_l2 is set=0.009247553460364173, reg_lambda=0.0 will be ignored. Current value: lambda_l2=0.009247553460364173\n",
      "[LightGBM] [Warning] min_data_in_leaf is set=889, min_child_samples=20 will be ignored. Current value: min_data_in_leaf=889\n",
      "[LightGBM] [Warning] lambda_l1 is set=0.008546054875284271, reg_alpha=0.0 will be ignored. Current value: lambda_l1=0.008546054875284271\n",
      "[LightGBM] [Warning] bagging_fraction is set=0.5182801656411274, subsample=1.0 will be ignored. Current value: bagging_fraction=0.5182801656411274\n",
      "[LightGBM] [Warning] lambda_l2 is set=0.009247553460364173, reg_lambda=0.0 will be ignored. Current value: lambda_l2=0.009247553460364173\n",
      "[LightGBM] [Warning] min_data_in_leaf is set=169, min_child_samples=20 will be ignored. Current value: min_data_in_leaf=169\n",
      "[LightGBM] [Warning] lambda_l1 is set=5.998314381788283, reg_alpha=0.0 will be ignored. Current value: lambda_l1=5.998314381788283\n",
      "[LightGBM] [Warning] bagging_fraction is set=0.7011598536168333, subsample=1.0 will be ignored. Current value: bagging_fraction=0.7011598536168333\n",
      "[LightGBM] [Warning] lambda_l2 is set=3.4475367566228585, reg_lambda=0.0 will be ignored. Current value: lambda_l2=3.4475367566228585\n",
      "[LightGBM] [Warning] min_data_in_leaf is set=169, min_child_samples=20 will be ignored. Current value: min_data_in_leaf=169\n",
      "[LightGBM] [Warning] lambda_l1 is set=5.998314381788283, reg_alpha=0.0 will be ignored. Current value: lambda_l1=5.998314381788283\n",
      "[LightGBM] [Warning] bagging_fraction is set=0.7011598536168333, subsample=1.0 will be ignored. Current value: bagging_fraction=0.7011598536168333\n",
      "[LightGBM] [Warning] lambda_l2 is set=3.4475367566228585, reg_lambda=0.0 will be ignored. Current value: lambda_l2=3.4475367566228585\n",
      "[LightGBM] [Warning] min_data_in_leaf is set=169, min_child_samples=20 will be ignored. Current value: min_data_in_leaf=169\n",
      "[LightGBM] [Warning] lambda_l1 is set=5.998314381788283, reg_alpha=0.0 will be ignored. Current value: lambda_l1=5.998314381788283\n",
      "[LightGBM] [Warning] bagging_fraction is set=0.7011598536168333, subsample=1.0 will be ignored. Current value: bagging_fraction=0.7011598536168333\n",
      "[LightGBM] [Warning] lambda_l2 is set=3.4475367566228585, reg_lambda=0.0 will be ignored. Current value: lambda_l2=3.4475367566228585\n",
      "[LightGBM] [Warning] min_data_in_leaf is set=169, min_child_samples=20 will be ignored. Current value: min_data_in_leaf=169\n",
      "[LightGBM] [Warning] lambda_l1 is set=5.998314381788283, reg_alpha=0.0 will be ignored. Current value: lambda_l1=5.998314381788283\n",
      "[LightGBM] [Warning] bagging_fraction is set=0.7011598536168333, subsample=1.0 will be ignored. Current value: bagging_fraction=0.7011598536168333\n",
      "[LightGBM] [Warning] lambda_l2 is set=3.4475367566228585, reg_lambda=0.0 will be ignored. Current value: lambda_l2=3.4475367566228585\n",
      "[LightGBM] [Warning] min_data_in_leaf is set=169, min_child_samples=20 will be ignored. Current value: min_data_in_leaf=169\n",
      "[LightGBM] [Warning] lambda_l1 is set=5.998314381788283, reg_alpha=0.0 will be ignored. Current value: lambda_l1=5.998314381788283\n",
      "[LightGBM] [Warning] bagging_fraction is set=0.7011598536168333, subsample=1.0 will be ignored. Current value: bagging_fraction=0.7011598536168333\n",
      "[LightGBM] [Warning] lambda_l2 is set=3.4475367566228585, reg_lambda=0.0 will be ignored. Current value: lambda_l2=3.4475367566228585\n",
      "[LightGBM] [Warning] min_data_in_leaf is set=826, min_child_samples=20 will be ignored. Current value: min_data_in_leaf=826\n",
      "[LightGBM] [Warning] lambda_l1 is set=1.4616771951123078, reg_alpha=0.0 will be ignored. Current value: lambda_l1=1.4616771951123078\n",
      "[LightGBM] [Warning] bagging_fraction is set=0.08201025890249702, subsample=1.0 will be ignored. Current value: bagging_fraction=0.08201025890249702\n",
      "[LightGBM] [Warning] lambda_l2 is set=0.07110358634903582, reg_lambda=0.0 will be ignored. Current value: lambda_l2=0.07110358634903582\n",
      "[LightGBM] [Warning] min_data_in_leaf is set=826, min_child_samples=20 will be ignored. Current value: min_data_in_leaf=826\n",
      "[LightGBM] [Warning] lambda_l1 is set=1.4616771951123078, reg_alpha=0.0 will be ignored. Current value: lambda_l1=1.4616771951123078\n",
      "[LightGBM] [Warning] bagging_fraction is set=0.08201025890249702, subsample=1.0 will be ignored. Current value: bagging_fraction=0.08201025890249702\n",
      "[LightGBM] [Warning] lambda_l2 is set=0.07110358634903582, reg_lambda=0.0 will be ignored. Current value: lambda_l2=0.07110358634903582\n",
      "[LightGBM] [Warning] min_data_in_leaf is set=826, min_child_samples=20 will be ignored. Current value: min_data_in_leaf=826\n",
      "[LightGBM] [Warning] lambda_l1 is set=1.4616771951123078, reg_alpha=0.0 will be ignored. Current value: lambda_l1=1.4616771951123078\n",
      "[LightGBM] [Warning] bagging_fraction is set=0.08201025890249702, subsample=1.0 will be ignored. Current value: bagging_fraction=0.08201025890249702\n",
      "[LightGBM] [Warning] lambda_l2 is set=0.07110358634903582, reg_lambda=0.0 will be ignored. Current value: lambda_l2=0.07110358634903582\n",
      "[LightGBM] [Warning] min_data_in_leaf is set=826, min_child_samples=20 will be ignored. Current value: min_data_in_leaf=826\n",
      "[LightGBM] [Warning] lambda_l1 is set=1.4616771951123078, reg_alpha=0.0 will be ignored. Current value: lambda_l1=1.4616771951123078\n",
      "[LightGBM] [Warning] bagging_fraction is set=0.08201025890249702, subsample=1.0 will be ignored. Current value: bagging_fraction=0.08201025890249702\n",
      "[LightGBM] [Warning] lambda_l2 is set=0.07110358634903582, reg_lambda=0.0 will be ignored. Current value: lambda_l2=0.07110358634903582\n",
      "[LightGBM] [Warning] min_data_in_leaf is set=826, min_child_samples=20 will be ignored. Current value: min_data_in_leaf=826\n",
      "[LightGBM] [Warning] lambda_l1 is set=1.4616771951123078, reg_alpha=0.0 will be ignored. Current value: lambda_l1=1.4616771951123078\n",
      "[LightGBM] [Warning] bagging_fraction is set=0.08201025890249702, subsample=1.0 will be ignored. Current value: bagging_fraction=0.08201025890249702\n",
      "[LightGBM] [Warning] lambda_l2 is set=0.07110358634903582, reg_lambda=0.0 will be ignored. Current value: lambda_l2=0.07110358634903582\n",
      "[LightGBM] [Warning] min_data_in_leaf is set=230, min_child_samples=20 will be ignored. Current value: min_data_in_leaf=230\n",
      "[LightGBM] [Warning] lambda_l1 is set=0.045519735379532945, reg_alpha=0.0 will be ignored. Current value: lambda_l1=0.045519735379532945\n",
      "[LightGBM] [Warning] bagging_fraction is set=0.7999509920604206, subsample=1.0 will be ignored. Current value: bagging_fraction=0.7999509920604206\n",
      "[LightGBM] [Warning] lambda_l2 is set=0.041960115311458324, reg_lambda=0.0 will be ignored. Current value: lambda_l2=0.041960115311458324\n"
     ]
    },
    {
     "name": "stdout",
     "output_type": "stream",
     "text": [
      "[LightGBM] [Warning] min_data_in_leaf is set=230, min_child_samples=20 will be ignored. Current value: min_data_in_leaf=230\n",
      "[LightGBM] [Warning] lambda_l1 is set=0.045519735379532945, reg_alpha=0.0 will be ignored. Current value: lambda_l1=0.045519735379532945\n",
      "[LightGBM] [Warning] bagging_fraction is set=0.7999509920604206, subsample=1.0 will be ignored. Current value: bagging_fraction=0.7999509920604206\n",
      "[LightGBM] [Warning] lambda_l2 is set=0.041960115311458324, reg_lambda=0.0 will be ignored. Current value: lambda_l2=0.041960115311458324\n",
      "[LightGBM] [Warning] min_data_in_leaf is set=230, min_child_samples=20 will be ignored. Current value: min_data_in_leaf=230\n",
      "[LightGBM] [Warning] lambda_l1 is set=0.045519735379532945, reg_alpha=0.0 will be ignored. Current value: lambda_l1=0.045519735379532945\n",
      "[LightGBM] [Warning] bagging_fraction is set=0.7999509920604206, subsample=1.0 will be ignored. Current value: bagging_fraction=0.7999509920604206\n",
      "[LightGBM] [Warning] lambda_l2 is set=0.041960115311458324, reg_lambda=0.0 will be ignored. Current value: lambda_l2=0.041960115311458324\n",
      "[LightGBM] [Warning] min_data_in_leaf is set=230, min_child_samples=20 will be ignored. Current value: min_data_in_leaf=230\n",
      "[LightGBM] [Warning] lambda_l1 is set=0.045519735379532945, reg_alpha=0.0 will be ignored. Current value: lambda_l1=0.045519735379532945\n",
      "[LightGBM] [Warning] bagging_fraction is set=0.7999509920604206, subsample=1.0 will be ignored. Current value: bagging_fraction=0.7999509920604206\n",
      "[LightGBM] [Warning] lambda_l2 is set=0.041960115311458324, reg_lambda=0.0 will be ignored. Current value: lambda_l2=0.041960115311458324\n",
      "[LightGBM] [Warning] min_data_in_leaf is set=230, min_child_samples=20 will be ignored. Current value: min_data_in_leaf=230\n",
      "[LightGBM] [Warning] lambda_l1 is set=0.045519735379532945, reg_alpha=0.0 will be ignored. Current value: lambda_l1=0.045519735379532945\n",
      "[LightGBM] [Warning] bagging_fraction is set=0.7999509920604206, subsample=1.0 will be ignored. Current value: bagging_fraction=0.7999509920604206\n",
      "[LightGBM] [Warning] lambda_l2 is set=0.041960115311458324, reg_lambda=0.0 will be ignored. Current value: lambda_l2=0.041960115311458324\n",
      "[LightGBM] [Warning] min_data_in_leaf is set=324, min_child_samples=20 will be ignored. Current value: min_data_in_leaf=324\n",
      "[LightGBM] [Warning] lambda_l1 is set=1.832515130236092, reg_alpha=0.0 will be ignored. Current value: lambda_l1=1.832515130236092\n",
      "[LightGBM] [Warning] bagging_fraction is set=0.9125049043106882, subsample=1.0 will be ignored. Current value: bagging_fraction=0.9125049043106882\n",
      "[LightGBM] [Warning] lambda_l2 is set=0.12301738849297703, reg_lambda=0.0 will be ignored. Current value: lambda_l2=0.12301738849297703\n",
      "[LightGBM] [Warning] min_data_in_leaf is set=324, min_child_samples=20 will be ignored. Current value: min_data_in_leaf=324\n",
      "[LightGBM] [Warning] lambda_l1 is set=1.832515130236092, reg_alpha=0.0 will be ignored. Current value: lambda_l1=1.832515130236092\n",
      "[LightGBM] [Warning] bagging_fraction is set=0.9125049043106882, subsample=1.0 will be ignored. Current value: bagging_fraction=0.9125049043106882\n",
      "[LightGBM] [Warning] lambda_l2 is set=0.12301738849297703, reg_lambda=0.0 will be ignored. Current value: lambda_l2=0.12301738849297703\n",
      "[LightGBM] [Warning] min_data_in_leaf is set=324, min_child_samples=20 will be ignored. Current value: min_data_in_leaf=324\n",
      "[LightGBM] [Warning] lambda_l1 is set=1.832515130236092, reg_alpha=0.0 will be ignored. Current value: lambda_l1=1.832515130236092\n",
      "[LightGBM] [Warning] bagging_fraction is set=0.9125049043106882, subsample=1.0 will be ignored. Current value: bagging_fraction=0.9125049043106882\n",
      "[LightGBM] [Warning] lambda_l2 is set=0.12301738849297703, reg_lambda=0.0 will be ignored. Current value: lambda_l2=0.12301738849297703\n",
      "[LightGBM] [Warning] min_data_in_leaf is set=324, min_child_samples=20 will be ignored. Current value: min_data_in_leaf=324\n",
      "[LightGBM] [Warning] lambda_l1 is set=1.832515130236092, reg_alpha=0.0 will be ignored. Current value: lambda_l1=1.832515130236092\n",
      "[LightGBM] [Warning] bagging_fraction is set=0.9125049043106882, subsample=1.0 will be ignored. Current value: bagging_fraction=0.9125049043106882\n",
      "[LightGBM] [Warning] lambda_l2 is set=0.12301738849297703, reg_lambda=0.0 will be ignored. Current value: lambda_l2=0.12301738849297703\n",
      "[LightGBM] [Warning] min_data_in_leaf is set=324, min_child_samples=20 will be ignored. Current value: min_data_in_leaf=324\n",
      "[LightGBM] [Warning] lambda_l1 is set=1.832515130236092, reg_alpha=0.0 will be ignored. Current value: lambda_l1=1.832515130236092\n",
      "[LightGBM] [Warning] bagging_fraction is set=0.9125049043106882, subsample=1.0 will be ignored. Current value: bagging_fraction=0.9125049043106882\n",
      "[LightGBM] [Warning] lambda_l2 is set=0.12301738849297703, reg_lambda=0.0 will be ignored. Current value: lambda_l2=0.12301738849297703\n",
      "[LightGBM] [Warning] min_data_in_leaf is set=721, min_child_samples=20 will be ignored. Current value: min_data_in_leaf=721\n",
      "[LightGBM] [Warning] lambda_l1 is set=0.0029497418256460963, reg_alpha=0.0 will be ignored. Current value: lambda_l1=0.0029497418256460963\n",
      "[LightGBM] [Warning] bagging_fraction is set=0.8028397464159197, subsample=1.0 will be ignored. Current value: bagging_fraction=0.8028397464159197\n",
      "[LightGBM] [Warning] lambda_l2 is set=0.8138154631681388, reg_lambda=0.0 will be ignored. Current value: lambda_l2=0.8138154631681388\n",
      "[LightGBM] [Warning] min_data_in_leaf is set=721, min_child_samples=20 will be ignored. Current value: min_data_in_leaf=721\n",
      "[LightGBM] [Warning] lambda_l1 is set=0.0029497418256460963, reg_alpha=0.0 will be ignored. Current value: lambda_l1=0.0029497418256460963\n",
      "[LightGBM] [Warning] bagging_fraction is set=0.8028397464159197, subsample=1.0 will be ignored. Current value: bagging_fraction=0.8028397464159197\n",
      "[LightGBM] [Warning] lambda_l2 is set=0.8138154631681388, reg_lambda=0.0 will be ignored. Current value: lambda_l2=0.8138154631681388\n",
      "[LightGBM] [Warning] min_data_in_leaf is set=721, min_child_samples=20 will be ignored. Current value: min_data_in_leaf=721\n",
      "[LightGBM] [Warning] lambda_l1 is set=0.0029497418256460963, reg_alpha=0.0 will be ignored. Current value: lambda_l1=0.0029497418256460963\n",
      "[LightGBM] [Warning] bagging_fraction is set=0.8028397464159197, subsample=1.0 will be ignored. Current value: bagging_fraction=0.8028397464159197\n",
      "[LightGBM] [Warning] lambda_l2 is set=0.8138154631681388, reg_lambda=0.0 will be ignored. Current value: lambda_l2=0.8138154631681388\n",
      "[LightGBM] [Warning] min_data_in_leaf is set=721, min_child_samples=20 will be ignored. Current value: min_data_in_leaf=721\n",
      "[LightGBM] [Warning] lambda_l1 is set=0.0029497418256460963, reg_alpha=0.0 will be ignored. Current value: lambda_l1=0.0029497418256460963\n",
      "[LightGBM] [Warning] bagging_fraction is set=0.8028397464159197, subsample=1.0 will be ignored. Current value: bagging_fraction=0.8028397464159197\n",
      "[LightGBM] [Warning] lambda_l2 is set=0.8138154631681388, reg_lambda=0.0 will be ignored. Current value: lambda_l2=0.8138154631681388\n",
      "[LightGBM] [Warning] min_data_in_leaf is set=721, min_child_samples=20 will be ignored. Current value: min_data_in_leaf=721\n",
      "[LightGBM] [Warning] lambda_l1 is set=0.0029497418256460963, reg_alpha=0.0 will be ignored. Current value: lambda_l1=0.0029497418256460963\n",
      "[LightGBM] [Warning] bagging_fraction is set=0.8028397464159197, subsample=1.0 will be ignored. Current value: bagging_fraction=0.8028397464159197\n",
      "[LightGBM] [Warning] lambda_l2 is set=0.8138154631681388, reg_lambda=0.0 will be ignored. Current value: lambda_l2=0.8138154631681388\n",
      "[LightGBM] [Warning] min_data_in_leaf is set=810, min_child_samples=20 will be ignored. Current value: min_data_in_leaf=810\n",
      "[LightGBM] [Warning] lambda_l1 is set=0.003852700229653784, reg_alpha=0.0 will be ignored. Current value: lambda_l1=0.003852700229653784\n",
      "[LightGBM] [Warning] bagging_fraction is set=0.6874700684685688, subsample=1.0 will be ignored. Current value: bagging_fraction=0.6874700684685688\n",
      "[LightGBM] [Warning] lambda_l2 is set=0.009461359066562768, reg_lambda=0.0 will be ignored. Current value: lambda_l2=0.009461359066562768\n",
      "[LightGBM] [Warning] min_data_in_leaf is set=810, min_child_samples=20 will be ignored. Current value: min_data_in_leaf=810\n",
      "[LightGBM] [Warning] lambda_l1 is set=0.003852700229653784, reg_alpha=0.0 will be ignored. Current value: lambda_l1=0.003852700229653784\n",
      "[LightGBM] [Warning] bagging_fraction is set=0.6874700684685688, subsample=1.0 will be ignored. Current value: bagging_fraction=0.6874700684685688\n",
      "[LightGBM] [Warning] lambda_l2 is set=0.009461359066562768, reg_lambda=0.0 will be ignored. Current value: lambda_l2=0.009461359066562768\n"
     ]
    },
    {
     "name": "stdout",
     "output_type": "stream",
     "text": [
      "[LightGBM] [Warning] min_data_in_leaf is set=810, min_child_samples=20 will be ignored. Current value: min_data_in_leaf=810\n",
      "[LightGBM] [Warning] lambda_l1 is set=0.003852700229653784, reg_alpha=0.0 will be ignored. Current value: lambda_l1=0.003852700229653784\n",
      "[LightGBM] [Warning] bagging_fraction is set=0.6874700684685688, subsample=1.0 will be ignored. Current value: bagging_fraction=0.6874700684685688\n",
      "[LightGBM] [Warning] lambda_l2 is set=0.009461359066562768, reg_lambda=0.0 will be ignored. Current value: lambda_l2=0.009461359066562768\n",
      "[LightGBM] [Warning] min_data_in_leaf is set=810, min_child_samples=20 will be ignored. Current value: min_data_in_leaf=810\n",
      "[LightGBM] [Warning] lambda_l1 is set=0.003852700229653784, reg_alpha=0.0 will be ignored. Current value: lambda_l1=0.003852700229653784\n",
      "[LightGBM] [Warning] bagging_fraction is set=0.6874700684685688, subsample=1.0 will be ignored. Current value: bagging_fraction=0.6874700684685688\n",
      "[LightGBM] [Warning] lambda_l2 is set=0.009461359066562768, reg_lambda=0.0 will be ignored. Current value: lambda_l2=0.009461359066562768\n",
      "[LightGBM] [Warning] min_data_in_leaf is set=810, min_child_samples=20 will be ignored. Current value: min_data_in_leaf=810\n",
      "[LightGBM] [Warning] lambda_l1 is set=0.003852700229653784, reg_alpha=0.0 will be ignored. Current value: lambda_l1=0.003852700229653784\n",
      "[LightGBM] [Warning] bagging_fraction is set=0.6874700684685688, subsample=1.0 will be ignored. Current value: bagging_fraction=0.6874700684685688\n",
      "[LightGBM] [Warning] lambda_l2 is set=0.009461359066562768, reg_lambda=0.0 will be ignored. Current value: lambda_l2=0.009461359066562768\n",
      "[LightGBM] [Warning] min_data_in_leaf is set=860, min_child_samples=20 will be ignored. Current value: min_data_in_leaf=860\n",
      "[LightGBM] [Warning] lambda_l1 is set=1.6858517552820766, reg_alpha=0.0 will be ignored. Current value: lambda_l1=1.6858517552820766\n",
      "[LightGBM] [Warning] bagging_fraction is set=0.4269641241352079, subsample=1.0 will be ignored. Current value: bagging_fraction=0.4269641241352079\n",
      "[LightGBM] [Warning] lambda_l2 is set=0.019796053415978596, reg_lambda=0.0 will be ignored. Current value: lambda_l2=0.019796053415978596\n",
      "[LightGBM] [Warning] min_data_in_leaf is set=860, min_child_samples=20 will be ignored. Current value: min_data_in_leaf=860\n",
      "[LightGBM] [Warning] lambda_l1 is set=1.6858517552820766, reg_alpha=0.0 will be ignored. Current value: lambda_l1=1.6858517552820766\n",
      "[LightGBM] [Warning] bagging_fraction is set=0.4269641241352079, subsample=1.0 will be ignored. Current value: bagging_fraction=0.4269641241352079\n",
      "[LightGBM] [Warning] lambda_l2 is set=0.019796053415978596, reg_lambda=0.0 will be ignored. Current value: lambda_l2=0.019796053415978596\n",
      "[LightGBM] [Warning] min_data_in_leaf is set=860, min_child_samples=20 will be ignored. Current value: min_data_in_leaf=860\n",
      "[LightGBM] [Warning] lambda_l1 is set=1.6858517552820766, reg_alpha=0.0 will be ignored. Current value: lambda_l1=1.6858517552820766\n",
      "[LightGBM] [Warning] bagging_fraction is set=0.4269641241352079, subsample=1.0 will be ignored. Current value: bagging_fraction=0.4269641241352079\n",
      "[LightGBM] [Warning] lambda_l2 is set=0.019796053415978596, reg_lambda=0.0 will be ignored. Current value: lambda_l2=0.019796053415978596\n",
      "[LightGBM] [Warning] min_data_in_leaf is set=860, min_child_samples=20 will be ignored. Current value: min_data_in_leaf=860\n",
      "[LightGBM] [Warning] lambda_l1 is set=1.6858517552820766, reg_alpha=0.0 will be ignored. Current value: lambda_l1=1.6858517552820766\n",
      "[LightGBM] [Warning] bagging_fraction is set=0.4269641241352079, subsample=1.0 will be ignored. Current value: bagging_fraction=0.4269641241352079\n",
      "[LightGBM] [Warning] lambda_l2 is set=0.019796053415978596, reg_lambda=0.0 will be ignored. Current value: lambda_l2=0.019796053415978596\n",
      "[LightGBM] [Warning] min_data_in_leaf is set=860, min_child_samples=20 will be ignored. Current value: min_data_in_leaf=860\n",
      "[LightGBM] [Warning] lambda_l1 is set=1.6858517552820766, reg_alpha=0.0 will be ignored. Current value: lambda_l1=1.6858517552820766\n",
      "[LightGBM] [Warning] bagging_fraction is set=0.4269641241352079, subsample=1.0 will be ignored. Current value: bagging_fraction=0.4269641241352079\n",
      "[LightGBM] [Warning] lambda_l2 is set=0.019796053415978596, reg_lambda=0.0 will be ignored. Current value: lambda_l2=0.019796053415978596\n",
      "[LightGBM] [Warning] min_data_in_leaf is set=824, min_child_samples=20 will be ignored. Current value: min_data_in_leaf=824\n",
      "[LightGBM] [Warning] lambda_l1 is set=0.1721040810486237, reg_alpha=0.0 will be ignored. Current value: lambda_l1=0.1721040810486237\n",
      "[LightGBM] [Warning] bagging_fraction is set=0.8570013948988457, subsample=1.0 will be ignored. Current value: bagging_fraction=0.8570013948988457\n",
      "[LightGBM] [Warning] lambda_l2 is set=0.0634078743218317, reg_lambda=0.0 will be ignored. Current value: lambda_l2=0.0634078743218317\n",
      "[LightGBM] [Warning] min_data_in_leaf is set=824, min_child_samples=20 will be ignored. Current value: min_data_in_leaf=824\n",
      "[LightGBM] [Warning] lambda_l1 is set=0.1721040810486237, reg_alpha=0.0 will be ignored. Current value: lambda_l1=0.1721040810486237\n",
      "[LightGBM] [Warning] bagging_fraction is set=0.8570013948988457, subsample=1.0 will be ignored. Current value: bagging_fraction=0.8570013948988457\n",
      "[LightGBM] [Warning] lambda_l2 is set=0.0634078743218317, reg_lambda=0.0 will be ignored. Current value: lambda_l2=0.0634078743218317\n",
      "[LightGBM] [Warning] min_data_in_leaf is set=824, min_child_samples=20 will be ignored. Current value: min_data_in_leaf=824\n",
      "[LightGBM] [Warning] lambda_l1 is set=0.1721040810486237, reg_alpha=0.0 will be ignored. Current value: lambda_l1=0.1721040810486237\n",
      "[LightGBM] [Warning] bagging_fraction is set=0.8570013948988457, subsample=1.0 will be ignored. Current value: bagging_fraction=0.8570013948988457\n",
      "[LightGBM] [Warning] lambda_l2 is set=0.0634078743218317, reg_lambda=0.0 will be ignored. Current value: lambda_l2=0.0634078743218317\n",
      "[LightGBM] [Warning] min_data_in_leaf is set=824, min_child_samples=20 will be ignored. Current value: min_data_in_leaf=824\n",
      "[LightGBM] [Warning] lambda_l1 is set=0.1721040810486237, reg_alpha=0.0 will be ignored. Current value: lambda_l1=0.1721040810486237\n",
      "[LightGBM] [Warning] bagging_fraction is set=0.8570013948988457, subsample=1.0 will be ignored. Current value: bagging_fraction=0.8570013948988457\n",
      "[LightGBM] [Warning] lambda_l2 is set=0.0634078743218317, reg_lambda=0.0 will be ignored. Current value: lambda_l2=0.0634078743218317\n",
      "[LightGBM] [Warning] min_data_in_leaf is set=824, min_child_samples=20 will be ignored. Current value: min_data_in_leaf=824\n",
      "[LightGBM] [Warning] lambda_l1 is set=0.1721040810486237, reg_alpha=0.0 will be ignored. Current value: lambda_l1=0.1721040810486237\n",
      "[LightGBM] [Warning] bagging_fraction is set=0.8570013948988457, subsample=1.0 will be ignored. Current value: bagging_fraction=0.8570013948988457\n",
      "[LightGBM] [Warning] lambda_l2 is set=0.0634078743218317, reg_lambda=0.0 will be ignored. Current value: lambda_l2=0.0634078743218317\n",
      "[LightGBM] [Warning] min_data_in_leaf is set=565, min_child_samples=20 will be ignored. Current value: min_data_in_leaf=565\n",
      "[LightGBM] [Warning] lambda_l1 is set=0.12816856153552295, reg_alpha=0.0 will be ignored. Current value: lambda_l1=0.12816856153552295\n",
      "[LightGBM] [Warning] bagging_fraction is set=0.5450595941991775, subsample=1.0 will be ignored. Current value: bagging_fraction=0.5450595941991775\n",
      "[LightGBM] [Warning] lambda_l2 is set=0.7993711307494786, reg_lambda=0.0 will be ignored. Current value: lambda_l2=0.7993711307494786\n",
      "[LightGBM] [Warning] min_data_in_leaf is set=565, min_child_samples=20 will be ignored. Current value: min_data_in_leaf=565\n",
      "[LightGBM] [Warning] lambda_l1 is set=0.12816856153552295, reg_alpha=0.0 will be ignored. Current value: lambda_l1=0.12816856153552295\n",
      "[LightGBM] [Warning] bagging_fraction is set=0.5450595941991775, subsample=1.0 will be ignored. Current value: bagging_fraction=0.5450595941991775\n",
      "[LightGBM] [Warning] lambda_l2 is set=0.7993711307494786, reg_lambda=0.0 will be ignored. Current value: lambda_l2=0.7993711307494786\n",
      "[LightGBM] [Warning] min_data_in_leaf is set=565, min_child_samples=20 will be ignored. Current value: min_data_in_leaf=565\n",
      "[LightGBM] [Warning] lambda_l1 is set=0.12816856153552295, reg_alpha=0.0 will be ignored. Current value: lambda_l1=0.12816856153552295\n",
      "[LightGBM] [Warning] bagging_fraction is set=0.5450595941991775, subsample=1.0 will be ignored. Current value: bagging_fraction=0.5450595941991775\n",
      "[LightGBM] [Warning] lambda_l2 is set=0.7993711307494786, reg_lambda=0.0 will be ignored. Current value: lambda_l2=0.7993711307494786\n"
     ]
    },
    {
     "name": "stdout",
     "output_type": "stream",
     "text": [
      "[LightGBM] [Warning] min_data_in_leaf is set=565, min_child_samples=20 will be ignored. Current value: min_data_in_leaf=565\n",
      "[LightGBM] [Warning] lambda_l1 is set=0.12816856153552295, reg_alpha=0.0 will be ignored. Current value: lambda_l1=0.12816856153552295\n",
      "[LightGBM] [Warning] bagging_fraction is set=0.5450595941991775, subsample=1.0 will be ignored. Current value: bagging_fraction=0.5450595941991775\n",
      "[LightGBM] [Warning] lambda_l2 is set=0.7993711307494786, reg_lambda=0.0 will be ignored. Current value: lambda_l2=0.7993711307494786\n",
      "[LightGBM] [Warning] min_data_in_leaf is set=565, min_child_samples=20 will be ignored. Current value: min_data_in_leaf=565\n",
      "[LightGBM] [Warning] lambda_l1 is set=0.12816856153552295, reg_alpha=0.0 will be ignored. Current value: lambda_l1=0.12816856153552295\n",
      "[LightGBM] [Warning] bagging_fraction is set=0.5450595941991775, subsample=1.0 will be ignored. Current value: bagging_fraction=0.5450595941991775\n",
      "[LightGBM] [Warning] lambda_l2 is set=0.7993711307494786, reg_lambda=0.0 will be ignored. Current value: lambda_l2=0.7993711307494786\n",
      "Best params\n",
      "{'n_estimators': 285, 'learning_rate': 0.0332820937964589, 'num_leaves': 887, 'min_data_in_leaf': 810, 'max_bin': 322, 'lambda_l1': 0.003852700229653784, 'lambda_l2': 0.009461359066562768, 'min_child_weight': 7, 'bagging_fraction': 0.6874700684685688, 'pos_bagging_fraction': 0.7256099715987783, 'neg_bagging_fraction': 0.7803990377751301}\n"
     ]
    }
   ],
   "source": [
    "print(\"Preparing for hyperparameter tuning...\")\n",
    "def _construct_and_cross_validate(**kwargs):\n",
    "\n",
    "    lgbm = LGBMClassifier(\n",
    "        task = \"train\",\n",
    "        objective = \"binary\", #cross-entropy\n",
    "#         boosting = \"dart\", #rf\n",
    "        metric = \"auc\",\n",
    "        tree_learner = \"data\",\n",
    "        random_state=100,\n",
    "        categorical_feature = [0,1,2],\n",
    "        class_weight={0: 1, 1: 14.291397},\n",
    "        n_estimators=kwargs['n_estimators'],\n",
    "        # to deal with overfitting, very important param\n",
    "#         max_depth=kwargs['max_depth'],\n",
    "        learning_rate=kwargs['learning_rate'],\n",
    "        num_leaves=kwargs['num_leaves'],\n",
    "        min_data_in_leaf=kwargs['min_data_in_leaf'],\n",
    "        #if max_bin becomes small, the accuracy goes up\n",
    "        max_bin=kwargs['max_bin'],\n",
    "        lambda_l1=kwargs['lambda_l1'],\n",
    "        lambda_l2=kwargs['lambda_l2'],\n",
    "        # to deal with overfitting\n",
    "        min_child_weight=kwargs['min_child_weight'],\n",
    "        #for bagging imbalanced\n",
    "        bagging_fraction=kwargs['bagging_fraction'],\n",
    "        pos_bagging_fraction=kwargs['pos_bagging_fraction'],\n",
    "        neg_bagging_fraction=kwargs['neg_bagging_fraction'],\n",
    "    )\n",
    "    #cross validation K=5\n",
    "    scores = cross_val_score(\n",
    "        lgbm, \n",
    "        X_processed, \n",
    "        Y_model, \n",
    "        cv=StratifiedKFold(n_splits=5, shuffle=True),\n",
    "        scoring=\"roc_auc\"\n",
    "    )\n",
    "    return scores\n",
    "\n",
    "# Task: Hyperparameter tuning with Optuna\n",
    "def objective(trial: Trial):\n",
    "    # Construct a DecisionTreeClassifier object\n",
    "    scores = _construct_and_cross_validate(\n",
    "        n_estimators=trial.suggest_int('n_estimators',100,500),\n",
    "        # to deal with overfitting, very important param\n",
    "#         max_depth = trial.suggest_int('max_depth',10,20),\n",
    "        max_depth = 20,\n",
    "        learning_rate = trial.suggest_float('learning_rate',0.02,0.1),\n",
    "        num_leaves = trial.suggest_int('num_leaves',500,1000),\n",
    "        min_data_in_leaf = trial.suggest_int('min_data_in_leaf',100,1000),\n",
    "        #if max_bin becomes small, the accuracy goes up\n",
    "        max_bin = trial.suggest_int('max_bin',255,350),\n",
    "        lambda_l1 = trial.suggest_loguniform('lambda_l1', 1e-3, 10.0),\n",
    "        lambda_l2 = trial.suggest_loguniform('lambda_l2', 1e-3, 10.0),\n",
    "        # to deal with overfitting\n",
    "        min_child_weight = trial.suggest_int('min_child_weight', 1, 10),\n",
    "        #for bagging imbalanced\n",
    "        bagging_fraction = trial.suggest_float('bagging_fraction', 0,1),\n",
    "        pos_bagging_fraction = trial.suggest_float('pos_bagging_fraction', 0,1),\n",
    "        neg_bagging_fraction = trial.suggest_float('neg_bagging_fraction', 0,1),\n",
    "    )\n",
    "\n",
    "    return scores.mean()\n",
    "\n",
    "print(\"Hyperparameter tuning started...\")\n",
    "optuna.logging.set_verbosity(optuna.logging.WARNING)\n",
    "study = optuna.create_study(direction=\"maximize\")\n",
    "# Optimize 300 times\n",
    "study.optimize(objective,show_progress_bar=True, n_trials=10)\n",
    "\n",
    "# Print the best parameters\n",
    "print(\"Best params\")\n",
    "print(study.best_params)\n",
    "# {'n_estimators': 429, 'max_depth': 10, 'learning_rate': 0.024312105401806207, 'num_leaves': 602, 'min_data_in_leaf': 790, 'max_bin': 334, 'lambda_l1': 0.005311737664606494, 'lambda_l2': 0.8005395054916461, 'min_child_weight': 7, 'bagging_fraction': 0.7918229603561032, 'pos_bagging_fraction': 0.5699080113041959, 'neg_bagging_fraction': 0.8723143941027633}"
   ]
  },
  {
   "cell_type": "code",
   "execution_count": 35,
   "id": "c2cae29c",
   "metadata": {},
   "outputs": [
    {
     "name": "stdout",
     "output_type": "stream",
     "text": [
      "Finalizing model...\n"
     ]
    },
    {
     "ename": "KeyError",
     "evalue": "'max_depth'",
     "output_type": "error",
     "traceback": [
      "\u001b[1;31m---------------------------------------------------------------------------\u001b[0m",
      "\u001b[1;31mKeyError\u001b[0m                                  Traceback (most recent call last)",
      "Input \u001b[1;32mIn [35]\u001b[0m, in \u001b[0;36m<cell line: 2>\u001b[1;34m()\u001b[0m\n\u001b[0;32m      1\u001b[0m \u001b[38;5;28mprint\u001b[39m(\u001b[38;5;124m\"\u001b[39m\u001b[38;5;124mFinalizing model...\u001b[39m\u001b[38;5;124m\"\u001b[39m)\n\u001b[0;32m      2\u001b[0m scores \u001b[38;5;241m=\u001b[39m _construct_and_cross_validate(\n\u001b[0;32m      3\u001b[0m     n_estimators\u001b[38;5;241m=\u001b[39mstudy\u001b[38;5;241m.\u001b[39mbest_params[\u001b[38;5;124m'\u001b[39m\u001b[38;5;124mn_estimators\u001b[39m\u001b[38;5;124m'\u001b[39m],\n\u001b[0;32m      4\u001b[0m     \u001b[38;5;66;03m# to deal with overfitting, very important param\u001b[39;00m\n\u001b[1;32m----> 5\u001b[0m     max_depth\u001b[38;5;241m=\u001b[39m\u001b[43mstudy\u001b[49m\u001b[38;5;241;43m.\u001b[39;49m\u001b[43mbest_params\u001b[49m\u001b[43m[\u001b[49m\u001b[38;5;124;43m'\u001b[39;49m\u001b[38;5;124;43mmax_depth\u001b[39;49m\u001b[38;5;124;43m'\u001b[39;49m\u001b[43m]\u001b[49m,\n\u001b[0;32m      6\u001b[0m     learning_rate\u001b[38;5;241m=\u001b[39mstudy\u001b[38;5;241m.\u001b[39mbest_params[\u001b[38;5;124m'\u001b[39m\u001b[38;5;124mlearning_rate\u001b[39m\u001b[38;5;124m'\u001b[39m],\n\u001b[0;32m      7\u001b[0m     num_leaves\u001b[38;5;241m=\u001b[39mstudy\u001b[38;5;241m.\u001b[39mbest_params[\u001b[38;5;124m'\u001b[39m\u001b[38;5;124mnum_leaves\u001b[39m\u001b[38;5;124m'\u001b[39m],\n\u001b[0;32m      8\u001b[0m     min_data_in_leaf\u001b[38;5;241m=\u001b[39mstudy\u001b[38;5;241m.\u001b[39mbest_params[\u001b[38;5;124m'\u001b[39m\u001b[38;5;124mmin_data_in_leaf\u001b[39m\u001b[38;5;124m'\u001b[39m],\n\u001b[0;32m      9\u001b[0m     \u001b[38;5;66;03m#if max_bin becomes small, the accuracy goes up\u001b[39;00m\n\u001b[0;32m     10\u001b[0m     max_bin\u001b[38;5;241m=\u001b[39mstudy\u001b[38;5;241m.\u001b[39mbest_params[\u001b[38;5;124m'\u001b[39m\u001b[38;5;124mmax_bin\u001b[39m\u001b[38;5;124m'\u001b[39m],\n\u001b[0;32m     11\u001b[0m     lambda_l1\u001b[38;5;241m=\u001b[39mstudy\u001b[38;5;241m.\u001b[39mbest_params[\u001b[38;5;124m'\u001b[39m\u001b[38;5;124mlambda_l1\u001b[39m\u001b[38;5;124m'\u001b[39m],\n\u001b[0;32m     12\u001b[0m     lambda_l2\u001b[38;5;241m=\u001b[39mstudy\u001b[38;5;241m.\u001b[39mbest_params[\u001b[38;5;124m'\u001b[39m\u001b[38;5;124mlambda_l2\u001b[39m\u001b[38;5;124m'\u001b[39m],\n\u001b[0;32m     13\u001b[0m     \u001b[38;5;66;03m# to deal with overfitting\u001b[39;00m\n\u001b[0;32m     14\u001b[0m     min_child_weight\u001b[38;5;241m=\u001b[39mstudy\u001b[38;5;241m.\u001b[39mbest_params[\u001b[38;5;124m'\u001b[39m\u001b[38;5;124mmin_child_weight\u001b[39m\u001b[38;5;124m'\u001b[39m],\n\u001b[0;32m     15\u001b[0m     \u001b[38;5;66;03m#for bagging imbalanced\u001b[39;00m\n\u001b[0;32m     16\u001b[0m     bagging_fraction\u001b[38;5;241m=\u001b[39mstudy\u001b[38;5;241m.\u001b[39mbest_params[\u001b[38;5;124m'\u001b[39m\u001b[38;5;124mbagging_fraction\u001b[39m\u001b[38;5;124m'\u001b[39m],\n\u001b[0;32m     17\u001b[0m     pos_bagging_fraction\u001b[38;5;241m=\u001b[39mstudy\u001b[38;5;241m.\u001b[39mbest_params[\u001b[38;5;124m'\u001b[39m\u001b[38;5;124mpos_bagging_fraction\u001b[39m\u001b[38;5;124m'\u001b[39m],\n\u001b[0;32m     18\u001b[0m     neg_bagging_fraction\u001b[38;5;241m=\u001b[39mstudy\u001b[38;5;241m.\u001b[39mbest_params[\u001b[38;5;124m'\u001b[39m\u001b[38;5;124mneg_bagging_fraction\u001b[39m\u001b[38;5;124m'\u001b[39m],\n\u001b[0;32m     19\u001b[0m )\n\u001b[0;32m     21\u001b[0m \u001b[38;5;28mprint\u001b[39m(\u001b[38;5;124m\"\u001b[39m\u001b[38;5;124mAverage ROC AUC Score\u001b[39m\u001b[38;5;124m\"\u001b[39m, np\u001b[38;5;241m.\u001b[39mmean(scores))\n\u001b[0;32m     22\u001b[0m \u001b[38;5;28mprint\u001b[39m(\u001b[38;5;124m\"\u001b[39m\u001b[38;5;124mStandard Deviation of ROC AUC Score\u001b[39m\u001b[38;5;124m\"\u001b[39m, np\u001b[38;5;241m.\u001b[39mstd(scores))\n",
      "\u001b[1;31mKeyError\u001b[0m: 'max_depth'"
     ]
    }
   ],
   "source": [
    "print(\"Finalizing model...\")\n",
    "scores = _construct_and_cross_validate(\n",
    "    n_estimators=study.best_params['n_estimators'],\n",
    "    # to deal with overfitting, very important param\n",
    "#     max_depth=study.best_params['max_depth'],\n",
    "    max_depth = 20,\n",
    "    learning_rate=study.best_params['learning_rate'],\n",
    "    num_leaves=study.best_params['num_leaves'],\n",
    "    min_data_in_leaf=study.best_params['min_data_in_leaf'],\n",
    "    #if max_bin becomes small, the accuracy goes up\n",
    "    max_bin=study.best_params['max_bin'],\n",
    "    lambda_l1=study.best_params['lambda_l1'],\n",
    "    lambda_l2=study.best_params['lambda_l2'],\n",
    "    # to deal with overfitting\n",
    "    min_child_weight=study.best_params['min_child_weight'],\n",
    "    #for bagging imbalanced\n",
    "    bagging_fraction=study.best_params['bagging_fraction'],\n",
    "    pos_bagging_fraction=study.best_params['pos_bagging_fraction'],\n",
    "    neg_bagging_fraction=study.best_params['neg_bagging_fraction'],\n",
    ")\n",
    "\n",
    "print(\"Average ROC AUC Score\", np.mean(scores))\n",
    "print(\"Standard Deviation of ROC AUC Score\", np.std(scores))\n"
   ]
  },
  {
   "cell_type": "code",
   "execution_count": 36,
   "id": "d8df6dd8",
   "metadata": {},
   "outputs": [],
   "source": [
    "optimized_LGBM = LGBMClassifier(\n",
    "    task = \"predict\",\n",
    "    objective = \"binary\",\n",
    "    metric = \"auc\",\n",
    "    tree_learner = \"data\",\n",
    "    categorical_feature = [0,1,2],\n",
    "    class_weight={0: 1, 1: 14.291397},\n",
    "    n_estimators=study.best_params['n_estimators'],\n",
    "    \n",
    "    # to deal with overfitting, very important param\n",
    "    max_depth=study.best_params['max_depth'],\n",
    "    learning_rate=study.best_params['learning_rate'],\n",
    "    num_leaves=study.best_params['num_leaves'],\n",
    "    min_data_in_leaf=study.best_params['min_data_in_leaf'],\n",
    "    \n",
    "    #if max_bin becomes small, the accuracy goes up\n",
    "    max_bin=study.best_params['max_bin'],\n",
    "    lambda_l1=study.best_params['lambda_l1'],\n",
    "    lambda_l2=study.best_params['lambda_l2'],\n",
    "    \n",
    "    # to deal with overfitting\n",
    "    min_child_weight=study.best_params['min_child_weight'],\n",
    "    #for bagging imbalanced\n",
    "    bagging_fraction=study.best_params['bagging_fraction'],\n",
    "    pos_bagging_fraction=study.best_params['pos_bagging_fraction'],\n",
    "    neg_bagging_fraction=study.best_params['neg_bagging_fraction'],\n",
    ")"
   ]
  },
  {
   "cell_type": "code",
   "execution_count": 73,
   "id": "7628209c",
   "metadata": {},
   "outputs": [],
   "source": [
    "# print(\"Executing...\")\n",
    "# Y_exam = np.zeros(X_exam_processed.shape[0])\n",
    "# k = 5\n",
    "# kf = StratifiedKFold(n_splits=k)\n",
    "# for tr_index, val_index in kf.split(X_processed,Y_model):\n",
    "#     X_tr,Y_tr = X_processed.iloc[tr_index],Y_model.iloc[tr_index]\n",
    "#     X_val, Y_val = X_processed.iloc[val_index],Y_model.iloc[val_index]\n",
    "    \n",
    "#     optimized_LGBM.fit(X_tr,Y_tr,eval_metric='auc')\n",
    "#     proba = optimized_LGBM.predict_proba(X_exam_processed)[:,1]\n",
    "#     Y_exam = Y_exam + proba\n",
    "# Y_exam = Y_exam/k\n",
    "# thresholds = np.array([0.4,0.5,0.6,0.7,0.8,0.9])\n",
    "# # the ratio of high prob with different thresholds\n",
    "# for num in thresholds: \n",
    "#     filtered = Y_exam[np.where(Y_exam>=num)]\n",
    "#     print(\"the number of probability more than %.2f is %d:\" %(num,len(filtered)))\n",
    "#     print(\"the ratio of probability more than %.2f is : %.4f\"%(num, float(len(filtered))/len(Y_exam)))\n",
    "#     print('---------------------------------------------------\\n')\n",
    "# # res = pd.DataFrame({'business prob':Y_exam})\n",
    "# # res.to_csv(\"./part1.csv\")\n"
   ]
  },
  {
   "cell_type": "code",
   "execution_count": null,
   "id": "a0e4683c",
   "metadata": {},
   "outputs": [
    {
     "name": "stdout",
     "output_type": "stream",
     "text": [
      "[LightGBM] [Warning] min_data_in_leaf is set=658, min_child_samples=20 will be ignored. Current value: min_data_in_leaf=658\n",
      "[LightGBM] [Warning] lambda_l1 is set=0.43008924263073073, reg_alpha=0.0 will be ignored. Current value: lambda_l1=0.43008924263073073\n",
      "[LightGBM] [Warning] bagging_fraction is set=0.7458434246282956, subsample=1.0 will be ignored. Current value: bagging_fraction=0.7458434246282956\n",
      "[LightGBM] [Warning] lambda_l2 is set=0.004128548842895173, reg_lambda=0.0 will be ignored. Current value: lambda_l2=0.004128548842895173\n",
      "[LightGBM] [Warning] min_data_in_leaf is set=658, min_child_samples=20 will be ignored. Current value: min_data_in_leaf=658\n",
      "[LightGBM] [Warning] lambda_l1 is set=0.43008924263073073, reg_alpha=0.0 will be ignored. Current value: lambda_l1=0.43008924263073073\n",
      "[LightGBM] [Warning] bagging_fraction is set=0.7458434246282956, subsample=1.0 will be ignored. Current value: bagging_fraction=0.7458434246282956\n",
      "[LightGBM] [Warning] lambda_l2 is set=0.004128548842895173, reg_lambda=0.0 will be ignored. Current value: lambda_l2=0.004128548842895173\n",
      "[LightGBM] [Warning] min_data_in_leaf is set=658, min_child_samples=20 will be ignored. Current value: min_data_in_leaf=658\n",
      "[LightGBM] [Warning] lambda_l1 is set=0.43008924263073073, reg_alpha=0.0 will be ignored. Current value: lambda_l1=0.43008924263073073\n",
      "[LightGBM] [Warning] bagging_fraction is set=0.7458434246282956, subsample=1.0 will be ignored. Current value: bagging_fraction=0.7458434246282956\n",
      "[LightGBM] [Warning] lambda_l2 is set=0.004128548842895173, reg_lambda=0.0 will be ignored. Current value: lambda_l2=0.004128548842895173\n"
     ]
    }
   ],
   "source": [
    "from sklearn.metrics import accuracy_score\n",
    "# Y_exam = np.zeros(X_exam_processed.shape[0])\n",
    "\n",
    "accuracy_Arr = np.array([])\n",
    "popup_Arr = np.array([])\n",
    "survey_Arr = np.array([])\n",
    "\n",
    "k = 5\n",
    "kf = StratifiedKFold(n_splits=k)\n",
    "thresholds = [0.4,0.48,0.5,0.52,0.53,0.65,0.7,0.75]\n",
    "for th in thresholds:\n",
    "    popup_P = 0\n",
    "    survey_P = 0\n",
    "    accuracy = 0\n",
    "    for tr_index, val_index in kf.split(X_processed,Y_model):\n",
    "        X_tr,Y_tr = X_processed.iloc[tr_index],Y_model.iloc[tr_index]\n",
    "        X_val, Y_val = X_processed.iloc[val_index],Y_model.iloc[val_index]\n",
    "\n",
    "        optimized_LGBM.fit(X_tr,Y_tr,eval_metric='auc')\n",
    "        # Generate the columns\n",
    "        proba = optimized_LGBM.predict_proba(X_val)[:,1]\n",
    "        pred = pd.DataFrame({'business prob_pred':proba})\n",
    "        popup = pd.DataFrame({'popup':np.zeros(X_val.shape[0])})\n",
    "        survey = pd.DataFrame({'survey':np.zeros(X_val.shape[0])})\n",
    "#         login = pd.DataFrame({'login':np.zeros(X_val.shape[0])})\n",
    "        \n",
    "        # Merge\n",
    "        res = pd.concat([pred,popup],axis=1)\n",
    "        res = pd.concat([res,survey],axis=1)\n",
    "#         res = pd.concat([res,login],axis=1)\n",
    "        \n",
    "        # If predicted proba is more than th, put his popup as 1\n",
    "        res.loc[res['business prob_pred'] >= th, 'popup'] = 1\n",
    "        res.loc[ (res['business prob_pred'] >= th)&(X_val['last_5_days_sum']>0) , 'survey'] = 1\n",
    "        \n",
    "        accuracy += accuracy_score(Y_val, res['popup'])\n",
    "        res = pd.concat([res,Y_val.reset_index(drop=True)],axis=1) # Merge res with Y_val\n",
    "        popup_P += res.loc[res['popup']==1,'business'].sum()*(500000*0.01) - res['popup'].sum()*400\n",
    "        survey_P += res.loc[res['survey']==1,'business'].sum()*(500000*0.036) - res['survey'].sum()*5000*0.18\n",
    "        \n",
    "    accuracy_Arr = np.append(accuracy_Arr,accuracy/k)\n",
    "    popup_Arr = np.append(popup_Arr,popup_P/k)\n",
    "    survey_Arr = np.append(survey_Arr,survey_P/k)\n",
    "    \n",
    "\n",
    "#     print('---------------------------------')\n",
    "#     print(accuracy_score(Y_val, res['popup']))\n",
    "#     print('---------------------------------')\n",
    "#     print('net profit:')\n",
    "#     profit = res.loc[res['popup']==1,'business'].sum()*(500000*0.01) - res['popup'].sum()*400\n",
    "#     print(profit)\n",
    "#     print('---------------------------------')\n"
   ]
  },
  {
   "cell_type": "code",
   "execution_count": null,
   "id": "ac832ca7",
   "metadata": {},
   "outputs": [],
   "source": [
    "df = pd.DataFrame({'threshold':thresholds, 'avg_Accuracy':accuracy_Arr, 'avg_Popup_Profit':popup_Arr, 'avg_Survey_Porfit':survey_Arr})\n",
    "df.set_index('threshold')\n",
    "print(df)"
   ]
  },
  {
   "cell_type": "code",
   "execution_count": null,
   "id": "4b62788d",
   "metadata": {},
   "outputs": [],
   "source": [
    "X_exam = pd.read_csv('X_exam.csv')\n",
    "print(\"Data preprocessing...\")\n",
    "dist_GIT_exam = rangesum(\n",
    "    'GIT', \n",
    "    r\"202205[0-9]{2}\", \n",
    "    \"cts\", \n",
    "    equal_dist(31)\n",
    ")(X_exam)\n",
    "dist_VAT_exam = rangesum(\n",
    "    'VAT', \n",
    "    r\"20220[17](?:[01][0-9]|2[0-5])\", \n",
    "    \"ts\", \n",
    "    np.concatenate((equal_dist(25), equal_dist(25)))\n",
    ")(X_exam)\n",
    "entire_days = 31 + 29 + 31 + 30 + 31 + 30 + 31 + 25\n",
    "entire_exam = rangesum(\n",
    "    'Entire', \n",
    "    r\"2022[0-9]{4}\", \n",
    "    \"cts\", \n",
    "    equal_dist(entire_days)\n",
    ")(X_exam)\n",
    "\n",
    "age_code_exam = np.array(X_exam['age_code'])\n",
    "gender_code_exam = np.array(X_exam['gender'])\n",
    "region_code_exam = np.array(X_exam['region_code'])\n",
    "cat_Featrues_exam = []\n",
    "cat_Featrues_exam.append(['gender',age_code_exam])\n",
    "cat_Featrues_exam.append(['age_code',age_code_exam])\n",
    "cat_Featrues_exam.append(['region_code',region_code_exam])\n",
    "\n",
    "# Get columns of \"c\" prefix of last 5 days of month\n",
    "last_5_days = [\n",
    "    *[f\"c202201{i + 27}\" for i in range(5)],\n",
    "    *[f\"c202202{i + 24}\" for i in range(5)],\n",
    "    *[f\"c202203{i + 27}\" for i in range(5)],\n",
    "    *[f\"c202204{i + 26}\" for i in range(5)],\n",
    "    *[f\"c202205{i + 27}\" for i in range(5)],\n",
    "    *[f\"c202206{i + 26}\" for i in range(5)],\n",
    "    *[f\"c202207{i + 27}\" for i in range(5)],\n",
    "]\n",
    "last_5_days_sum_exam = X_exam.filter(last_5_days, axis=1).fillna(0).sum(axis=1)\n",
    "last_5_days_sum_exam = X_exam.filter(last_5_days, axis=1).fillna(0).sum(axis=1)\n",
    "last5_code_exam = np.array(last_5_days_sum_exam)\n",
    "last_5_days_sum_list_exam =[]\n",
    "last_5_days_sum_list_exam.append(['last_5_days_sum',last5_code_exam])\n",
    "\n",
    "X_exam_processed = preprocess(\n",
    "    X_exam, \n",
    "    [\n",
    "        cat_Featrues_exam,\n",
    "        dist_GIT_exam,\n",
    "        dist_VAT_exam,\n",
    "        entire_exam,\n",
    "        last_5_days_sum_list_exam\n",
    "    ]\n",
    ")"
   ]
  },
  {
   "cell_type": "code",
   "execution_count": null,
   "id": "28a23ad3",
   "metadata": {},
   "outputs": [],
   "source": [
    "X_exam_scaled = pd.DataFrame(scaler.fit_transform(X_exam_processed), columns=X_exam_processed.columns)"
   ]
  },
  {
   "cell_type": "code",
   "execution_count": null,
   "id": "236756b0",
   "metadata": {},
   "outputs": [],
   "source": [
    "optimized_LGBM.fit(X_processed,Y_model,eval_metric='auc')\n",
    "proba = optimized_LGBM.predict_proba(X_exam_scaled)[:,1]"
   ]
  },
  {
   "cell_type": "code",
   "execution_count": null,
   "id": "7adf231e",
   "metadata": {},
   "outputs": [],
   "source": [
    "final = pd.DataFrame({'business_prob':proba})\n",
    "P = pd.DataFrame({'popup':np.zeros(X_exam_processed.shape[0],dtype=int)})\n",
    "S = pd.DataFrame({'survey':np.zeros(X_exam_processed.shape[0],dtype=int)})\n",
    "\n",
    "final = pd.concat([final,P],axis=1)\n",
    "final = pd.concat([final,S],axis=1)\n",
    "\n",
    "final.loc[final['business_prob'] >= 0.53, 'popup'] = int(1)\n",
    "final.loc[(final['business_prob'] >= 0.638) & (X_exam_processed['last_5_days_sum']>0), 'survey'] = int(1)\n",
    "print(final.head())\n",
    "final.to_csv(\"./submission.csv\",index=False)\n",
    "#    business_prob  popup  survey\n",
    "# 0       0.450327      0       0\n",
    "# 1       0.001605      0       0\n",
    "# 2       0.520748      0       0\n",
    "# 3       0.004561      0       0\n",
    "# 4       0.044437      0       0"
   ]
  },
  {
   "cell_type": "code",
   "execution_count": null,
   "id": "fe7579fb",
   "metadata": {},
   "outputs": [],
   "source": [
    "final['survey'].sum()"
   ]
  },
  {
   "cell_type": "code",
   "execution_count": null,
   "id": "d60a050b",
   "metadata": {},
   "outputs": [],
   "source": []
  }
 ],
 "metadata": {
  "kernelspec": {
   "display_name": "Python 3 (ipykernel)",
   "language": "python",
   "name": "python3"
  },
  "language_info": {
   "codemirror_mode": {
    "name": "ipython",
    "version": 3
   },
   "file_extension": ".py",
   "mimetype": "text/x-python",
   "name": "python",
   "nbconvert_exporter": "python",
   "pygments_lexer": "ipython3",
   "version": "3.9.12"
  }
 },
 "nbformat": 4,
 "nbformat_minor": 5
}

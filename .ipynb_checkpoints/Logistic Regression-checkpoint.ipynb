{
 "cells": [
  {
   "cell_type": "code",
   "execution_count": 1,
   "id": "d538e092",
   "metadata": {},
   "outputs": [],
   "source": [
    "import numpy as np\n",
    "import pandas as pd\n",
    "from sklearn.datasets import load_iris\n",
    "from sklearn.model_selection import train_test_split\n",
    "from sklearn.naive_bayes import GaussianNB\n",
    "from sklearn.metrics import roc_curve\n",
    "from sklearn.metrics import roc_auc_score\n",
    "#from sklearn.ensemble import RandomForestClassifier\n",
    "import matplotlib.pyplot as plt\n",
    "\n",
    "#from sklearn.metrics import roc_auc_score\n",
    "from sklearn.model_selection import cross_val_score\n",
    "from sklearn.model_selection import StratifiedKFold\n",
    "from sklearn.model_selection import GridSearchCV\n",
    "from sklearn.tree import DecisionTreeClassifier\n",
    "from sklearn.preprocessing import StandardScaler\n",
    "from sklearn.linear_model import LogisticRegression\n",
    "\n",
    "import optuna\n",
    "from optuna.trial import Trial\n",
    "from optuna.samplers import TPESampler\n",
    "import warnings\n",
    "warnings.filterwarnings('ignore')"
   ]
  },
  {
   "cell_type": "code",
   "execution_count": 2,
   "id": "45c894e9",
   "metadata": {},
   "outputs": [
    {
     "name": "stdout",
     "output_type": "stream",
     "text": [
      "   gender  age_code  region_code  cGIT  tGIT    sGIT  tVAT    sVAT  cEntire  \\\n",
      "0       1        13            7   0.0   0.0     0.0   0.0     0.0      1.0   \n",
      "1       1         5            1   2.0   0.0    17.0   0.0   185.0     39.0   \n",
      "2       2         6            2   6.0   3.0  2253.0   0.0  1712.0     26.0   \n",
      "3       2         1            1   2.0   0.0   342.0   0.0     0.0      5.0   \n",
      "4       2         5            1   2.0   0.0   273.0   0.0   104.0     10.0   \n",
      "\n",
      "   tEntire  sEntire     rcGIT  rtGIT     rsGIT  rtVAT     rsVAT  \n",
      "0      1.0     93.0  0.000000    0.0  0.000000    0.0  0.000000  \n",
      "1      0.0    790.0  0.051282    0.0  0.021519    0.0  0.234177  \n",
      "2      3.0   5119.0  0.230769    1.0  0.440125    0.0  0.334440  \n",
      "3      0.0    647.0  0.400000    0.0  0.528594    0.0  0.000000  \n",
      "4      1.0    608.0  0.200000    0.0  0.449013    0.0  0.171053  \n"
     ]
    }
   ],
   "source": [
    "# Data Loading\n",
    "X_model = pd.read_csv('X_model.csv')\n",
    "Y_model = pd.read_csv('Y_model.csv')\n",
    "# Define preprocessors\n",
    "def preprocess(X: pd.DataFrame):\n",
    "    X = X.fillna(0)\n",
    "    # Create new dataframe from columns \"gender\", \"age_code\", and \"region_code\"\n",
    "    X_new = pd.DataFrame(X, columns=['gender', 'age_code', 'region_code'])\n",
    "    GIT_range = r\"202205[0-9]{2}\"\n",
    "    cGIT = np.sum(X.filter(regex=(\"c\" + GIT_range), axis=1).values, axis=1)\n",
    "    tGIT = np.sum(X.filter(regex=(\"t\" + GIT_range), axis=1).values, axis=1)\n",
    "    sGIT = np.sum(X.filter(regex=(\"s\" + GIT_range), axis=1).values, axis=1)\n",
    "\n",
    "    VAT_range = r\"20220[17](?:[01][0-9]|2[0-5])\"\n",
    "    tVAT = np.sum(X.filter(regex=(\"t\" + VAT_range), axis=1).values, axis=1)\n",
    "    sVAT = np.sum(X.filter(regex=(\"s\" + VAT_range), axis=1).values, axis=1)\n",
    "\n",
    "    entire_range = r\"2022[0-9]{4}\"\n",
    "    cEntire = np.sum(X.filter(regex=(\"c\" + entire_range), axis=1).values, axis=1)\n",
    "    tEntire = np.sum(X.filter(regex=(\"t\" + entire_range), axis=1).values, axis=1)\n",
    "    sEntire = np.sum(X.filter(regex=(\"s\" + entire_range), axis=1).values, axis=1)\n",
    "\n",
    "    rcGIT = np.divide(cGIT, cEntire)\n",
    "    rtGIT = np.divide(tGIT, tEntire)\n",
    "    rsGIT = np.divide(sGIT, sEntire)\n",
    "\n",
    "    rtVAT = np.divide(tVAT, tEntire)\n",
    "    rsVAT = np.divide(sVAT, sEntire)\n",
    "\n",
    "    X_new['cGIT'] = cGIT\n",
    "    X_new['tGIT'] = tGIT\n",
    "    X_new['sGIT'] = sGIT\n",
    "\n",
    "    X_new['tVAT'] = tVAT\n",
    "    X_new['sVAT'] = sVAT\n",
    "\n",
    "    X_new['cEntire'] = cEntire\n",
    "    X_new['tEntire'] = tEntire\n",
    "    X_new['sEntire'] = sEntire\n",
    "\n",
    "    X_new['rcGIT'] = rcGIT\n",
    "    X_new['rtGIT'] = rtGIT\n",
    "    X_new['rsGIT'] = rsGIT\n",
    "\n",
    "    X_new['rtVAT'] = rtVAT\n",
    "    X_new['rsVAT'] = rsVAT\n",
    "\n",
    "    X_new = X_new.fillna(0)\n",
    "    print(X_new.head())\n",
    "\n",
    "    return X_new\n",
    "# Preprocess\n",
    "X_model = preprocess(X_model)"
   ]
  },
  {
   "cell_type": "code",
   "execution_count": 35,
   "id": "1f14e9ac",
   "metadata": {},
   "outputs": [],
   "source": [
    "# features = X_model[['cGIT', 'tGIT', 'sGIT', 'tVAT', 'sVAT', 'cEntire', 'tEntire', 'rtGIT', 'rtVAT']]\n",
    "# check = Y_model[['business']]"
   ]
  },
  {
   "cell_type": "code",
   "execution_count": 36,
   "id": "08560498",
   "metadata": {},
   "outputs": [],
   "source": [
    "# train_features, test_features, train_labels, test_labels = train_test_split(features, check)"
   ]
  },
  {
   "cell_type": "code",
   "execution_count": 37,
   "id": "550e6407",
   "metadata": {},
   "outputs": [],
   "source": [
    "# scaler = StandardScaler()\n",
    "# train_features = scaler.fit_transform(train_features)\n",
    "# test_features = scaler.fit_transform(test_features)"
   ]
  },
  {
   "cell_type": "code",
   "execution_count": 8,
   "id": "4e823819",
   "metadata": {},
   "outputs": [
    {
     "name": "stdout",
     "output_type": "stream",
     "text": [
      "Average ROC AUC Score 0.7940662147388757\n",
      "Standard Deviation of ROC AUC Score 0.001211522370178893\n",
      "[0.79444246 0.79290033 0.79532452 0.79527149 0.79239228]\n"
     ]
    },
    {
     "data": {
      "text/plain": [
       "<BarContainer object of 5 artists>"
      ]
     },
     "execution_count": 8,
     "metadata": {},
     "output_type": "execute_result"
    },
    {
     "data": {
      "image/png": "[encoded data removed]",
      "text/plain": [
       "<Figure size 432x288 with 1 Axes>"
      ]
     },
     "metadata": {
      "needs_background": "light"
     },
     "output_type": "display_data"
    }
   ],
   "source": [
    "model = LogisticRegression(class_weight={0: 1, 1: 14.291397},\n",
    "                           random_state = 100,\n",
    "                           solver = 'sag'\n",
    ")\n",
    "scores = cross_val_score(\n",
    "    model, \n",
    "    X_model, \n",
    "    Y_model, \n",
    "    cv=StratifiedKFold(n_splits=5, shuffle=True\n",
    "                       ,random_state=100\n",
    "                      ),\n",
    "    scoring='roc_auc'\n",
    ")\n",
    "print(\"Average ROC AUC Score\", np.mean(scores))\n",
    "print(\"Standard Deviation of ROC AUC Score\", np.std(scores))\n",
    "# Plot 5 scores in bar plot\n",
    "print(scores)\n",
    "plt.bar(list(map(lambda i: f\"Fold #{i}\", range(1, 6))), scores)\n"
   ]
  },
  {
   "cell_type": "code",
   "execution_count": 9,
   "id": "7b3e98c5",
   "metadata": {},
   "outputs": [
    {
     "name": "stdout",
     "output_type": "stream",
     "text": [
      "   gender  age_code  region_code  cGIT  tGIT   sGIT  tVAT    sVAT  cEntire  \\\n",
      "0       2         4            4   4.0   0.0   19.0   2.0   468.0     16.0   \n",
      "1       2        10           15   0.0   0.0    0.0   0.0     0.0      7.0   \n",
      "2       2         4            2   4.0   0.0  800.0   2.0  2719.0     48.0   \n",
      "3       1         8            1   1.0   0.0   50.0   0.0     0.0     13.0   \n",
      "4       2         8            2   0.0   0.0    0.0   1.0   488.0      1.0   \n",
      "\n",
      "   tEntire  sEntire     rcGIT  rtGIT     rsGIT     rtVAT     rsVAT  \n",
      "0      2.0   1187.0  0.250000    0.0  0.016007  1.000000  0.394271  \n",
      "1      0.0   1253.0  0.000000    0.0  0.000000  0.000000  0.000000  \n",
      "2      7.0   4502.0  0.083333    0.0  0.177699  0.285714  0.603954  \n",
      "3      0.0    979.0  0.076923    0.0  0.051073  0.000000  0.000000  \n",
      "4      1.0    488.0  0.000000    0.0  0.000000  1.000000  1.000000  \n"
     ]
    }
   ],
   "source": [
    "X_exam = pd.read_csv('X_exam.csv')\n",
    "X_exam = preprocess(X_exam)"
   ]
  },
  {
   "cell_type": "code",
   "execution_count": 39,
   "id": "80de4111",
   "metadata": {},
   "outputs": [
    {
     "name": "stdout",
     "output_type": "stream",
     "text": [
      "Logistic: ROC AUC=0.789\n"
     ]
    }
   ],
   "source": [
    "# lr_probs = model.predict_proba(test_features)\n",
    "# lr_probs = lr_probs[:, 1]\n",
    "# lr_auc = roc_auc_score(test_labels, lr_probs)\n",
    "# # summarize scores\n",
    "# print('Logistic: ROC AUC=%.3f' % (lr_auc))\n"
   ]
  },
  {
   "cell_type": "code",
   "execution_count": 40,
   "id": "b1c4dfe1",
   "metadata": {},
   "outputs": [
    {
     "name": "stdout",
     "output_type": "stream",
     "text": [
      "0.9348716666666667\n",
      "0.934155\n"
     ]
    }
   ],
   "source": [
    "# print(model.score(train_features, train_labels))\n",
    "# print(model.score(test_features, test_labels))"
   ]
  },
  {
   "cell_type": "code",
   "execution_count": 33,
   "id": "382b01be",
   "metadata": {},
   "outputs": [
    {
     "name": "stdout",
     "output_type": "stream",
     "text": [
      "[[0.90211082 0.09788918]\n",
      " [0.97381255 0.02618745]\n",
      " [0.97534645 0.02465355]\n",
      " ...\n",
      " [0.96758977 0.03241023]\n",
      " [0.97517868 0.02482132]\n",
      " [0.94384011 0.05615989]]\n",
      "[[-0.10038064 -0.07545631 -0.09710461  0.16063041 -0.18079598  0.14201198\n",
      "  -0.0023393   0.76219841  0.26446474  0.29365219]]\n"
     ]
    }
   ],
   "source": [
    "# print(model.predict_proba(test_features))\n",
    "# print(model.coef_)"
   ]
  },
  {
   "cell_type": "code",
   "execution_count": 11,
   "id": "ebf83e61",
   "metadata": {},
   "outputs": [
    {
     "name": "stdout",
     "output_type": "stream",
     "text": [
      "the number of probability more than 0.05 is 200000:\n",
      "the ratio of probability more than 0.05 is : 1.0000\n",
      "---------------------------------------------------\n",
      "\n",
      "the number of probability more than 0.10 is 200000:\n",
      "the ratio of probability more than 0.10 is : 1.0000\n",
      "---------------------------------------------------\n",
      "\n",
      "the number of probability more than 0.15 is 200000:\n",
      "the ratio of probability more than 0.15 is : 1.0000\n",
      "---------------------------------------------------\n",
      "\n",
      "the number of probability more than 0.20 is 200000:\n",
      "the ratio of probability more than 0.20 is : 1.0000\n",
      "---------------------------------------------------\n",
      "\n",
      "the number of probability more than 0.25 is 200000:\n",
      "the ratio of probability more than 0.25 is : 1.0000\n",
      "---------------------------------------------------\n",
      "\n",
      "the number of probability more than 0.30 is 200000:\n",
      "the ratio of probability more than 0.30 is : 1.0000\n",
      "---------------------------------------------------\n",
      "\n",
      "the number of probability more than 0.35 is 200000:\n",
      "the ratio of probability more than 0.35 is : 1.0000\n",
      "---------------------------------------------------\n",
      "\n",
      "the number of probability more than 0.40 is 200000:\n",
      "the ratio of probability more than 0.40 is : 1.0000\n",
      "---------------------------------------------------\n",
      "\n",
      "the number of probability more than 0.45 is 200000:\n",
      "the ratio of probability more than 0.45 is : 1.0000\n",
      "---------------------------------------------------\n",
      "\n",
      "the number of probability more than 0.50 is 196797:\n",
      "the ratio of probability more than 0.50 is : 0.9840\n",
      "---------------------------------------------------\n",
      "\n",
      "the number of probability more than 0.55 is 71482:\n",
      "the ratio of probability more than 0.55 is : 0.3574\n",
      "---------------------------------------------------\n",
      "\n",
      "the number of probability more than 0.60 is 40771:\n",
      "the ratio of probability more than 0.60 is : 0.2039\n",
      "---------------------------------------------------\n",
      "\n",
      "the number of probability more than 0.65 is 24260:\n",
      "the ratio of probability more than 0.65 is : 0.1213\n",
      "---------------------------------------------------\n",
      "\n",
      "the number of probability more than 0.70 is 14611:\n",
      "the ratio of probability more than 0.70 is : 0.0731\n",
      "---------------------------------------------------\n",
      "\n",
      "the number of probability more than 0.75 is 8883:\n",
      "the ratio of probability more than 0.75 is : 0.0444\n",
      "---------------------------------------------------\n",
      "\n",
      "the number of probability more than 0.80 is 5394:\n",
      "the ratio of probability more than 0.80 is : 0.0270\n",
      "---------------------------------------------------\n",
      "\n",
      "the number of probability more than 0.85 is 3237:\n",
      "the ratio of probability more than 0.85 is : 0.0162\n",
      "---------------------------------------------------\n",
      "\n",
      "the number of probability more than 0.90 is 1819:\n",
      "the ratio of probability more than 0.90 is : 0.0091\n",
      "---------------------------------------------------\n",
      "\n",
      "the number of probability more than 0.95 is 845:\n",
      "the ratio of probability more than 0.95 is : 0.0042\n",
      "---------------------------------------------------\n",
      "\n"
     ]
    }
   ],
   "source": [
    "Y_exam = np.zeros(X_exam.shape[0])\n",
    "k = 5\n",
    "kf = StratifiedKFold(n_splits=k)\n",
    "for tr_index, val_index in kf.split(X_model,Y_model):\n",
    "    X_tr = X_model.iloc[tr_index]\n",
    "    Y_tr = Y_model.iloc[tr_index]\n",
    "    X_val, Y_val = X_model.iloc[val_index],Y_model.iloc[val_index]\n",
    "    \n",
    "    model.fit(X_tr,Y_tr)\n",
    "    proba = model.predict_proba(X_exam)[:,1]\n",
    "    Y_exam = Y_exam + proba\n",
    "Y_exam = Y_exam/k\n",
    "thresholds = np.array([0.1, 0.2, 0.3, 0.4, 0.5, 0.6, 0.7,  0.8, 0.9 ])\n",
    "# the ratio of high prob with different thresholds\n",
    "for num in thresholds: \n",
    "    filtered = Y_exam[np.where(Y_exam>num)]\n",
    "    print(\"the number of probability more than %.2f is %d:\" %(num,len(filtered)))\n",
    "    print(\"the ratio of probability more than %.2f is : %.4f\"%(num, float(len(filtered))/len(Y_exam)))\n",
    "    print('---------------------------------------------------\\n')"
   ]
  },
  {
   "cell_type": "code",
   "execution_count": 47,
   "id": "f3823820",
   "metadata": {},
   "outputs": [
    {
     "name": "stdout",
     "output_type": "stream",
     "text": [
      "---------------------------------------------------------\n",
      "when threshold is 0.05, the avg profit is -7157160.00\n",
      "---------------------------------------------------------\n",
      "---------------------------------------------------------\n",
      "when threshold is 0.10, the avg profit is -3810960.00\n",
      "---------------------------------------------------------\n",
      "---------------------------------------------------------\n",
      "when threshold is 0.15, the avg profit is 605280.00\n",
      "---------------------------------------------------------\n",
      "---------------------------------------------------------\n",
      "when threshold is 0.20, the avg profit is 3035920.00\n",
      "---------------------------------------------------------\n",
      "---------------------------------------------------------\n",
      "when threshold is 0.25, the avg profit is 4000920.00\n",
      "---------------------------------------------------------\n",
      "---------------------------------------------------------\n",
      "when threshold is 0.30, the avg profit is 3877880.00\n",
      "---------------------------------------------------------\n",
      "---------------------------------------------------------\n",
      "when threshold is 0.35, the avg profit is 3504000.00\n",
      "---------------------------------------------------------\n",
      "---------------------------------------------------------\n",
      "when threshold is 0.40, the avg profit is 3057520.00\n",
      "---------------------------------------------------------\n",
      "---------------------------------------------------------\n",
      "when threshold is 0.45, the avg profit is 2669680.00\n",
      "---------------------------------------------------------\n",
      "---------------------------------------------------------\n",
      "when threshold is 0.50, the avg profit is 2344560.00\n",
      "---------------------------------------------------------\n",
      "---------------------------------------------------------\n",
      "when threshold is 0.55, the avg profit is 2028600.00\n",
      "---------------------------------------------------------\n",
      "---------------------------------------------------------\n",
      "when threshold is 0.60, the avg profit is 1766800.00\n",
      "---------------------------------------------------------\n",
      "---------------------------------------------------------\n",
      "when threshold is 0.65, the avg profit is 1553080.00\n",
      "---------------------------------------------------------\n",
      "---------------------------------------------------------\n",
      "when threshold is 0.70, the avg profit is 1332280.00\n",
      "---------------------------------------------------------\n",
      "---------------------------------------------------------\n",
      "when threshold is 0.75, the avg profit is 1140280.00\n",
      "---------------------------------------------------------\n",
      "---------------------------------------------------------\n",
      "when threshold is 0.80, the avg profit is 942320.00\n",
      "---------------------------------------------------------\n",
      "---------------------------------------------------------\n",
      "when threshold is 0.85, the avg profit is 748280.00\n",
      "---------------------------------------------------------\n",
      "---------------------------------------------------------\n",
      "when threshold is 0.90, the avg profit is 572840.00\n",
      "---------------------------------------------------------\n",
      "---------------------------------------------------------\n",
      "when threshold is 0.95, the avg profit is 384800.00\n",
      "---------------------------------------------------------\n"
     ]
    }
   ],
   "source": [
    "for th in [0.05, 0.1, 0.15, 0.2, 0.25, 0.3, 0.35, 0.4,0.45,0.5,0.55, 0.6, 0.65, 0.7, 0.75, 0.8, 0.85, 0.9, 0.95]:\n",
    "    profit = 0\n",
    "    for tr_index, val_index in kf.split(X_model,Y_model):\n",
    "        X_tr,Y_tr = X_model.iloc[tr_index],Y_model.iloc[tr_index]\n",
    "        X_val,Y_val = X_model.iloc[val_index],Y_model.iloc[val_index]\n",
    "\n",
    "        model.fit(X_tr,Y_tr)\n",
    "        proba = model.predict_proba(X_val)[:,1]\n",
    "\n",
    "        df = pd.DataFrame({'business_prob':proba},index=val_index)\n",
    "        res = pd.concat([Y_val,df],axis=1)\n",
    "        filtered = res[res['business_prob']>th]\n",
    "\n",
    "        profit += filtered['business'].sum()* 500000*0.01 - 400*filtered.shape[0]\n",
    "    # avg profit\n",
    "    print(\"---------------------------------------------------------\")\n",
    "    print(\"when threshold is %.2f, the avg profit is %.2f\" %(th,profit/5))\n",
    "    print(\"---------------------------------------------------------\")"
   ]
  },
  {
   "cell_type": "code",
   "execution_count": null,
   "id": "bd2cce6a",
   "metadata": {},
   "outputs": [],
   "source": []
  }
 ],
 "metadata": {
  "kernelspec": {
   "display_name": "Python 3 (ipykernel)",
   "language": "python",
   "name": "python3"
  },
  "language_info": {
   "codemirror_mode": {
    "name": "ipython",
    "version": 3
   },
   "file_extension": ".py",
   "mimetype": "text/x-python",
   "name": "python",
   "nbconvert_exporter": "python",
   "pygments_lexer": "ipython3",
   "version": "3.9.12"
  }
 },
 "nbformat": 4,
 "nbformat_minor": 5
}

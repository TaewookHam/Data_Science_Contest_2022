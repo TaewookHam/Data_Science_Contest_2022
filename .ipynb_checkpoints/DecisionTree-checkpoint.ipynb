{
 "cells": [
  {
   "cell_type": "code",
   "execution_count": 1,
   "id": "fc9bf126",
   "metadata": {},
   "outputs": [],
   "source": [
    "from lightgbm import LGBMClassifier\n",
    "\n",
    "import numpy as np\n",
    "import pandas as pd\n",
    "from sklearn.model_selection import train_test_split\n",
    "from sklearn.ensemble import RandomForestClassifier\n",
    "import matplotlib.pyplot as plt\n",
    "\n",
    "from sklearn.metrics import roc_auc_score\n",
    "from sklearn.model_selection import cross_val_score\n",
    "from sklearn.model_selection import StratifiedKFold\n",
    "\n",
    "from sklearn.model_selection import GridSearchCV\n",
    "import optuna\n",
    "from optuna.trial import Trial\n",
    "from optuna.samplers import TPESampler\n",
    "import warnings\n",
    "warnings.filterwarnings('ignore')\n",
    "\n",
    "from typing import List, Any, Tuple\n",
    "from sklearn.preprocessing import MinMaxScaler"
   ]
  },
  {
   "cell_type": "code",
   "execution_count": null,
   "id": "733d7175",
   "metadata": {},
   "outputs": [],
   "source": []
  },
  {
   "cell_type": "code",
   "execution_count": 2,
   "id": "92f7d330",
   "metadata": {},
   "outputs": [
    {
     "name": "stdout",
     "output_type": "stream",
     "text": [
      "Defining preprocessors...\n"
     ]
    }
   ],
   "source": [
    "# Define preprocessors\n",
    "print(\"Defining preprocessors...\")\n",
    "def column(colnames: List[str]):\n",
    "    def _column(X: pd.DataFrame):\n",
    "        X = X.fillna(0)\n",
    "        return [\n",
    "            [colname, X[colname].values] for colname in colnames\n",
    "        ]\n",
    "    return _column\n",
    "\n",
    "def rangesum(\n",
    "    name:str, \n",
    "    regex: str, \n",
    "    prefixes: str, \n",
    "    dist: np.ndarray\n",
    "):\n",
    "    def _rangesum(X: pd.DataFrame):\n",
    "        X = X.fillna(0)\n",
    "        return [\n",
    "            [\n",
    "                prefix + name, \n",
    "                X.filter(regex=(prefix + regex), axis=1).values.dot(dist)\n",
    "            ] for prefix in prefixes\n",
    "        ]\n",
    "    return _rangesum\n",
    "\n",
    "def _fillna(X: np.ndarray) -> np.ndarray:\n",
    "    return np.nan_to_num(X, copy=True, nan=0)\n",
    "\n",
    "def array_divide(\n",
    "    numerator: List[Tuple[str, np.ndarray]], \n",
    "    denominator: List[Tuple[str, np.ndarray]]\n",
    ") -> List[Any]:\n",
    "    assert len(numerator) == len(denominator)\n",
    "    return [\n",
    "        [\n",
    "            \"r\" + numerator_colname, \n",
    "            _fillna(np.divide(numerator_col, denominator_col))\n",
    "        ] for [numerator_colname, numerator_col], [_, denominator_col] in zip(numerator, denominator)\n",
    "    ]\n",
    "\n",
    "def one_hot_encode(column: str) -> pd.DataFrame:\n",
    "    def _one_hot_encode(X: pd.DataFrame):\n",
    "        X = X.fillna(0)\n",
    "        df_dummies = pd.get_dummies(X[column], prefix=column)\n",
    "        return [\n",
    "            [colname, df_dummies[colname].values] for colname in df_dummies.columns\n",
    "        ]\n",
    "    return _one_hot_encode\n",
    "\n",
    "def preprocess(X: pd.DataFrame, processors: List[Any]) -> pd.DataFrame:\n",
    "    X_new = pd.DataFrame()\n",
    "\n",
    "    for processor in processors:\n",
    "        for colname, col in processor if type(processor) == type([]) else processor(X):\n",
    "            X_new[colname] = col\n",
    "\n",
    "    X_new = X_new.fillna(0)\n",
    "\n",
    "    X_new = pd.DataFrame(scaler.fit_transform(X_new), columns=X_new.columns)\n",
    "\n",
    "    return X_new"
   ]
  },
  {
   "cell_type": "code",
   "execution_count": 4,
   "id": "0c0ced04",
   "metadata": {},
   "outputs": [
    {
     "name": "stdout",
     "output_type": "stream",
     "text": [
      "Data preprocessing...\n"
     ]
    },
    {
     "ename": "NameError",
     "evalue": "name 'X_model' is not defined",
     "output_type": "error",
     "traceback": [
      "\u001b[1;31m---------------------------------------------------------------------------\u001b[0m",
      "\u001b[1;31mNameError\u001b[0m                                 Traceback (most recent call last)",
      "Input \u001b[1;32mIn [4]\u001b[0m, in \u001b[0;36m<cell line: 7>\u001b[1;34m()\u001b[0m\n\u001b[0;32m      5\u001b[0m     \u001b[38;5;28;01mreturn\u001b[39;00m np\u001b[38;5;241m.\u001b[39marange(start\u001b[38;5;241m=\u001b[39m\u001b[38;5;241m0\u001b[39m, stop\u001b[38;5;241m=\u001b[39m\u001b[38;5;241m1\u001b[39m, step\u001b[38;5;241m=\u001b[39m\u001b[38;5;241m1\u001b[39m\u001b[38;5;241m/\u001b[39mlength)\n\u001b[0;32m      6\u001b[0m \u001b[38;5;28mprint\u001b[39m(\u001b[38;5;124m\"\u001b[39m\u001b[38;5;124mData preprocessing...\u001b[39m\u001b[38;5;124m\"\u001b[39m)\n\u001b[0;32m      7\u001b[0m dist_GIT \u001b[38;5;241m=\u001b[39m rangesum(\n\u001b[0;32m      8\u001b[0m     \u001b[38;5;124m'\u001b[39m\u001b[38;5;124mGIT\u001b[39m\u001b[38;5;124m'\u001b[39m, \n\u001b[0;32m      9\u001b[0m     \u001b[38;5;124mr\u001b[39m\u001b[38;5;124m\"\u001b[39m\u001b[38;5;124m202205[0-9]\u001b[39m\u001b[38;5;132;01m{2}\u001b[39;00m\u001b[38;5;124m\"\u001b[39m, \n\u001b[0;32m     10\u001b[0m     \u001b[38;5;124m\"\u001b[39m\u001b[38;5;124mcts\u001b[39m\u001b[38;5;124m\"\u001b[39m, \n\u001b[0;32m     11\u001b[0m     equal_dist(\u001b[38;5;241m31\u001b[39m)\n\u001b[1;32m---> 12\u001b[0m )(\u001b[43mX_model\u001b[49m)\n\u001b[0;32m     13\u001b[0m dist_VAT \u001b[38;5;241m=\u001b[39m rangesum(\n\u001b[0;32m     14\u001b[0m     \u001b[38;5;124m'\u001b[39m\u001b[38;5;124mVAT\u001b[39m\u001b[38;5;124m'\u001b[39m, \n\u001b[0;32m     15\u001b[0m     \u001b[38;5;124mr\u001b[39m\u001b[38;5;124m\"\u001b[39m\u001b[38;5;124m20220[17](?:[01][0-9]|2[0-5])\u001b[39m\u001b[38;5;124m\"\u001b[39m, \n\u001b[0;32m     16\u001b[0m     \u001b[38;5;124m\"\u001b[39m\u001b[38;5;124mts\u001b[39m\u001b[38;5;124m\"\u001b[39m, \n\u001b[0;32m     17\u001b[0m     np\u001b[38;5;241m.\u001b[39mconcatenate((equal_dist(\u001b[38;5;241m25\u001b[39m), equal_dist(\u001b[38;5;241m25\u001b[39m)))\n\u001b[0;32m     18\u001b[0m )(X_model)\n\u001b[0;32m     19\u001b[0m entire_days \u001b[38;5;241m=\u001b[39m \u001b[38;5;241m31\u001b[39m \u001b[38;5;241m+\u001b[39m \u001b[38;5;241m29\u001b[39m \u001b[38;5;241m+\u001b[39m \u001b[38;5;241m31\u001b[39m \u001b[38;5;241m+\u001b[39m \u001b[38;5;241m30\u001b[39m \u001b[38;5;241m+\u001b[39m \u001b[38;5;241m31\u001b[39m \u001b[38;5;241m+\u001b[39m \u001b[38;5;241m30\u001b[39m \u001b[38;5;241m+\u001b[39m \u001b[38;5;241m31\u001b[39m \u001b[38;5;241m+\u001b[39m \u001b[38;5;241m25\u001b[39m\n",
      "\u001b[1;31mNameError\u001b[0m: name 'X_model' is not defined"
     ]
    }
   ],
   "source": [
    "def equal_dist(length: int) -> np.ndarray:\n",
    "    return np.ones(length)\n",
    "\n",
    "def linear_dist(length: int) -> np.ndarray:\n",
    "    return np.arange(start=0, stop=1, step=1/length)\n",
    "print(\"Data preprocessing...\")\n",
    "dist_GIT = rangesum(\n",
    "    'GIT', \n",
    "    r\"202205[0-9]{2}\", \n",
    "    \"cts\", \n",
    "    equal_dist(31)\n",
    ")(X_model)\n",
    "dist_VAT = rangesum(\n",
    "    'VAT', \n",
    "    r\"20220[17](?:[01][0-9]|2[0-5])\", \n",
    "    \"ts\", \n",
    "    np.concatenate((equal_dist(25), equal_dist(25)))\n",
    ")(X_model)\n",
    "entire_days = 31 + 29 + 31 + 30 + 31 + 30 + 31 + 25\n",
    "entire = rangesum(\n",
    "    'Entire', \n",
    "    r\"2022[0-9]{4}\", \n",
    "    \"cts\", \n",
    "    equal_dist(entire_days)\n",
    ")(X_model)"
   ]
  },
  {
   "cell_type": "code",
   "execution_count": null,
   "id": "7fc9ef8d",
   "metadata": {},
   "outputs": [],
   "source": []
  },
  {
   "cell_type": "code",
   "execution_count": 3,
   "id": "ec98a2c5",
   "metadata": {},
   "outputs": [
    {
     "ename": "NameError",
     "evalue": "name 'dist_GIT' is not defined",
     "output_type": "error",
     "traceback": [
      "\u001b[1;31m---------------------------------------------------------------------------\u001b[0m",
      "\u001b[1;31mNameError\u001b[0m                                 Traceback (most recent call last)",
      "Input \u001b[1;32mIn [3]\u001b[0m, in \u001b[0;36m<cell line: 2>\u001b[1;34m()\u001b[0m\n\u001b[0;32m      1\u001b[0m X_exam \u001b[38;5;241m=\u001b[39m pd\u001b[38;5;241m.\u001b[39mread_csv(\u001b[38;5;124m'\u001b[39m\u001b[38;5;124mX_exam.csv\u001b[39m\u001b[38;5;124m'\u001b[39m)\n\u001b[0;32m      2\u001b[0m X_exam_preprocess \u001b[38;5;241m=\u001b[39m preprocess(\n\u001b[0;32m      3\u001b[0m     X_exam, \n\u001b[0;32m      4\u001b[0m     [\n\u001b[0;32m      5\u001b[0m         column([\u001b[38;5;124m'\u001b[39m\u001b[38;5;124mage_code\u001b[39m\u001b[38;5;124m'\u001b[39m]),\n\u001b[0;32m      6\u001b[0m         one_hot_encode(\u001b[38;5;124m'\u001b[39m\u001b[38;5;124mgender\u001b[39m\u001b[38;5;124m'\u001b[39m),\n\u001b[0;32m      7\u001b[0m         one_hot_encode(\u001b[38;5;124m'\u001b[39m\u001b[38;5;124mregion_code\u001b[39m\u001b[38;5;124m'\u001b[39m),\n\u001b[1;32m----> 8\u001b[0m         \u001b[43mdist_GIT\u001b[49m,\n\u001b[0;32m      9\u001b[0m         dist_VAT,\n\u001b[0;32m     10\u001b[0m         entire\n\u001b[0;32m     11\u001b[0m     ]\n\u001b[0;32m     12\u001b[0m )\n",
      "\u001b[1;31mNameError\u001b[0m: name 'dist_GIT' is not defined"
     ]
    }
   ],
   "source": [
    "X_exam = pd.read_csv('X_exam.csv')\n",
    "X_exam_preprocess = preprocess(\n",
    "    X_exam, \n",
    "    [\n",
    "        column(['age_code']),\n",
    "        one_hot_encode('gender'),\n",
    "        one_hot_encode('region_code'),\n",
    "        dist_GIT,\n",
    "        dist_VAT,\n",
    "        entire\n",
    "    ]\n",
    ")"
   ]
  }
 ],
 "metadata": {
  "kernelspec": {
   "display_name": "Python 3 (ipykernel)",
   "language": "python",
   "name": "python3"
  },
  "language_info": {
   "codemirror_mode": {
    "name": "ipython",
    "version": 3
   },
   "file_extension": ".py",
   "mimetype": "text/x-python",
   "name": "python",
   "nbconvert_exporter": "python",
   "pygments_lexer": "ipython3",
   "version": "3.9.12"
  }
 },
 "nbformat": 4,
 "nbformat_minor": 5
}
